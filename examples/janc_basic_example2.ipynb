{
  "nbformat": 4,
  "nbformat_minor": 0,
  "metadata": {
    "colab": {
      "provenance": [],
      "machine_shape": "hm",
      "gpuType": "A100",
      "collapsed_sections": [
        "cEZESjSgkG04",
        "QozMaGNh9veP",
        "Qc1SEZ-3MnDO",
        "0AHa7ppjROqP",
        "aLrW0-M2Tc3X",
        "N1KgTRkjTfgH",
        "caQoW2I-Tllz",
        "FgVm0D3qk-up"
      ],
      "mount_file_id": "14jfi9qv2F8Vm2iZuUekFEN-qVabbawly",
      "authorship_tag": "ABX9TyPYYMjZY65P87/G20WSd68H",
      "include_colab_link": true
    },
    "kernelspec": {
      "name": "python3",
      "display_name": "Python 3"
    },
    "language_info": {
      "name": "python"
    },
    "accelerator": "GPU"
  },
  "cells": [
    {
      "cell_type": "markdown",
      "metadata": {
        "id": "view-in-github",
        "colab_type": "text"
      },
      "source": [
        "<a href=\"https://colab.research.google.com/github/JA4S/JANC/blob/main/examples/janc_basic_example2.ipynb\" target=\"_parent\"><img src=\"https://colab.research.google.com/assets/colab-badge.svg\" alt=\"Open In Colab\"/></a>"
      ]
    },
    {
      "cell_type": "markdown",
      "source": [
        "# Install JANC and import relevant libraries"
      ],
      "metadata": {
        "id": "HTxRJRezd86Y"
      }
    },
    {
      "cell_type": "code",
      "source": [
        "!pip install git+https://github.com/JA4S/JANC.git"
      ],
      "metadata": {
        "id": "G2CSNbjYd86Y"
      },
      "execution_count": null,
      "outputs": []
    },
    {
      "cell_type": "code",
      "source": [
        "from janc.preprocess.nondim import x0, P0, T0, t0\n",
        "import janc.thermodynamics.thermo as thermo\n",
        "import janc.solver.solver as solver\n",
        "\n",
        "import jax\n",
        "import jax.numpy as jnp\n",
        "import numpy as np\n",
        "import matplotlib.pyplot as plt\n",
        "from tqdm.auto import tqdm\n",
        "\n",
        "# set JAX to use GPU\n",
        "jax.config.update(\"jax_enable_x64\", True)\n",
        "jax.config.update('jax_platform_name', 'gpu')"
      ],
      "metadata": {
        "id": "SdrAh-kId86Z"
      },
      "execution_count": null,
      "outputs": []
    },
    {
      "cell_type": "markdown",
      "source": [
        "# Example : H2-Air Premixed RDC"
      ],
      "metadata": {
        "id": "619z8KXoSz66"
      }
    },
    {
      "cell_type": "markdown",
      "source": [
        "# Set grid"
      ],
      "metadata": {
        "id": "-l844h4PeGZg"
      }
    },
    {
      "cell_type": "code",
      "source": [
        "Lx = 0.20/x0\n",
        "Ly = 0.08/x0\n",
        "\n",
        "nx = 2000\n",
        "ny = 800\n",
        "\n",
        "dx = Lx/nx\n",
        "dy = Ly/ny"
      ],
      "metadata": {
        "id": "PHX6HfAeeGZg"
      },
      "execution_count": null,
      "outputs": []
    },
    {
      "cell_type": "markdown",
      "source": [
        "# Set thermodynamics (thermo & chemical properties) of gas mixture"
      ],
      "metadata": {
        "id": "8WifdxIESx6O"
      }
    },
    {
      "cell_type": "code",
      "source": [
        "thermo_config = {'is_detailed_chemistry':True,\n",
        "        'thermo_model':'nasa7',\n",
        "        'mechanism_diretory':'9sp-19r-H2-Air.yaml'}\n",
        "thermo.set_thermo(thermo_config)"
      ],
      "metadata": {
        "id": "wSqjIAd2eZnx"
      },
      "execution_count": null,
      "outputs": []
    },
    {
      "cell_type": "markdown",
      "source": [
        "# User-defined boundary conditions and source terms"
      ],
      "metadata": {
        "id": "cEZESjSgkG04"
      }
    },
    {
      "cell_type": "code",
      "source": [
        "Lx = 0.20/x0\n",
        "Ly = 0.08/x0\n",
        "\n",
        "nx = 2000\n",
        "ny = 800\n",
        "\n",
        "dx = Lx/nx\n",
        "dy = Ly/ny"
      ],
      "metadata": {
        "id": "U3DAoEIRkIeY"
      },
      "execution_count": null,
      "outputs": []
    },
    {
      "cell_type": "code",
      "source": [
        "##inlet boundary\n",
        "#injection equivalence ratio\n",
        "ratio = 1.0\n",
        "yH2inj = (ratio/8*0.232)/(1 + ratio/8*0.232)\n",
        "yO2inj = 0.232/(1 + ratio/8*0.232)\n",
        "\n",
        "##outlet boundary\n",
        "#back pressure\n",
        "Pb = 101325/P0\n",
        "\n",
        "Yinj = jnp.concatenate([jnp.array([yH2inj,yO2inj]),1e-20*jnp.ones((8-2))],axis=0)\n",
        "Yinj_cor = jnp.expand_dims(Yinj,(1,2))\n",
        "Yinj_cor = jnp.tile(Yinj_cor,(1,nx+2*3,1))\n",
        "na = 8\n",
        "\n",
        "\n",
        "def inj_model(p):\n",
        "    A1 = 1\n",
        "    A3 = 5\n",
        "    A2 = A3-A1\n",
        "    R = thermo.get_R(Yinj_cor)\n",
        "    gamma = 1.29\n",
        "    C0 = jnp.sqrt(gamma*R*1.0)\n",
        "\n",
        "    M = jnp.zeros_like(p)\n",
        "    P1 = 1.0*(1+(gamma-1)/2*M**2)**(-gamma/(gamma-1))\n",
        "    V1 = M*(1+(gamma-1)/2*M**2)**(-0.5)*C0\n",
        "    MFC = A1*1.0/jnp.sqrt(1.0)*jnp.sqrt(gamma/R)*M*(1+(gamma-1)/2*M**2)**(-(gamma+1)/2/(gamma-1))\n",
        "    A = 0.5\n",
        "    P3 = p\n",
        "    B = gamma/(gamma-1)*P3*A3/MFC\n",
        "    C = -gamma/(gamma-1)*R*1.0\n",
        "    V3 = (-B+jnp.sqrt(B**2-4*A*C))/(2*A)\n",
        "    P2 = (MFC*(V3-V1)-P1*A1+P3*A3)/A2\n",
        "\n",
        "    M1 = jnp.zeros_like(p)\n",
        "    M2 = jnp.ones_like(p)\n",
        "    p_cor = p\n",
        "\n",
        "    for i in range(20):\n",
        "        M = 0.5*(M1+M2)\n",
        "        P1 = 1.0*(1+(gamma-1)/2*M**2)**(-gamma/(gamma-1))\n",
        "        V1 = M*(1+(gamma-1)/2*M**2)**(-0.5)*C0\n",
        "        MFC = A1*1.0/jnp.sqrt(1.0)*jnp.sqrt(gamma/R)*M*(1+(gamma-1)/2*M**2)**(-(gamma+1)/2/(gamma-1))\n",
        "        A = 0.5\n",
        "        B = gamma/(gamma-1)*P3*A3/MFC\n",
        "        C = -gamma/(gamma-1)*R*1.0\n",
        "        V3 = (-B+jnp.sqrt(B**2-4*A*C))/(2*A)\n",
        "        P2 = (MFC*(V3-V1)-P1*A1+P3*A3)/A2\n",
        "\n",
        "        M2 = jax.lax.select(P2>=P1,M,M2)\n",
        "        M1 = jax.lax.select(P2<P1,M,M1)\n",
        "\n",
        "    rho_cor = MFC/V3/A3\n",
        "    v_cor = V3\n",
        "    T_cor = p_cor/(R*rho_cor)\n",
        "    _, gamma, h_cor, _, _ = thermo.get_thermo(T_cor,Yinj_cor)\n",
        "    return v_cor, T_cor, h_cor, gamma\n",
        "\n",
        "\n",
        "\n",
        "def left_boundary(U_periodic_pad,aux_periodic_pad):\n",
        "    #To accommodate periodic boundaries, the shape of `U_periodic_pad` is [flux_num,nx+2*3,ny+2*3], and `aux_periodic_pad` is [2,nx+2*3,ny+2*3].\n",
        "    #aux[0]:gamma aux[1]:Tempreature\n",
        "    #Among them, the top and bottom boundaries have already been padded with periodic values.\n",
        "    #To replace the periodic boundaries, simply index the left boundary using 【U_periodic_pad[:,3:4,:]】 and use it to compute the new boundary values.\n",
        "    #The function needs to 【replace】 the ghost cells on the left side 【without changing the original shape】 of the input.\n",
        "    return U_periodic_pad,aux_periodic_pad\n",
        "\n",
        "def right_boundary(U_periodic_pad,aux_periodic_pad):\n",
        "    #To accommodate periodic boundaries, the shape of `U_periodic_pad` is [flux_num,nx+2*3,ny+2*3], and `aux_periodic_pad` is [2,nx+2*3,ny+2*3].\n",
        "    #aux[0]:gamma aux[1]:Tempreature\n",
        "    #Among them, the top and bottom boundaries have already been padded with periodic values.\n",
        "    #To replace the periodic boundaries, simply index the right boundary using 【U_periodic_pad[:,-4:-3,:]】 and use it to compute the new boundary values.\n",
        "    #The function needs to 【replace】 the ghost cells on the right side 【without changing the original shape】 of the input.\n",
        "    return U_periodic_pad,aux_periodic_pad\n",
        "\n",
        "def bottom_boundary(U_periodic_pad_with_x_boundaries,aux_periodic_pad_with_x_boundaries):\n",
        "    #The input must have already had the left and right boundary conditions replaced.\n",
        "    #The top and bottom boundary conditions are still pre-padded with periodic values.\n",
        "    state_periodic = U_periodic_pad_with_x_boundaries\n",
        "    gamma_periodic = aux_periodic_pad_with_x_boundaries[0:1,:,:]\n",
        "    T_periodic = aux_periodic_pad_with_x_boundaries[1:2,:,:]\n",
        "\n",
        "    # inlet boundary\n",
        "    # 【Note】:physical boundary starts at index 3:4, not 0:1，since 0：3 is padded with periodical boundaries\n",
        "    state_in = state_periodic[:,:,3:4]\n",
        "    gamma_in = gamma_periodic[:,:,3:4]\n",
        "    T_in = T_periodic[:,:,3:4]\n",
        "\n",
        "    rho_in = state_in[0:1,:,:]\n",
        "    u_in = state_in[1:2,:,:]/rho_in\n",
        "    v_in = state_in[2:3,:,:]/rho_in\n",
        "    Y_in = state_in[4:,:,:]/rho_in\n",
        "    _, _, h_in, R_in, _ = thermo.get_thermo(T_in,Y_in)\n",
        "    p_in = rho_in*R_in*T_in\n",
        "    a_in = jnp.sqrt(gamma_in*p_in/rho_in)\n",
        "\n",
        "    u_temp = jnp.zeros_like(u_in)\n",
        "    Y_temp = Yinj_cor\n",
        "    v_temp, T_temp, h_temp, gamma_temp = inj_model(p_in)\n",
        "    R_temp = thermo.get_R(Y_temp)\n",
        "    rho_temp = p_in/(R_temp*T_temp)\n",
        "\n",
        "    mask_in = (p_in >= 1.0)\n",
        "    rho_cor_in = jax.lax.select(mask_in,rho_in,rho_temp)\n",
        "    u_cor_in = jax.lax.select(mask_in,u_in,u_temp)\n",
        "    v_cor_in = jax.lax.select(mask_in,-v_in,v_temp)\n",
        "    T_cor_in = jax.lax.select(mask_in,T_in,T_temp)\n",
        "    p_cor_in = p_in\n",
        "    h_cor_in = jax.lax.select(mask_in,h_in,h_temp)\n",
        "    na = Yinj_cor.shape[0]\n",
        "    Y_cor_in = jax.lax.select(jnp.tile(mask_in,(na,1,1)),Y_in,Y_temp)\n",
        "    gamma_cor_in = jax.lax.select(mask_in,gamma_in,gamma_temp)\n",
        "\n",
        "    U_lower_bound_state = jnp.concatenate([rho_cor_in, rho_cor_in * u_cor_in, rho_cor_in * v_cor_in,\n",
        "                     rho_cor_in*h_cor_in - p_cor_in + 0.5 * rho_cor_in * (u_cor_in ** 2 + v_cor_in ** 2),\n",
        "                     rho_cor_in * Y_cor_in], axis=0)\n",
        "    aux_lower_bound_state = jnp.concatenate([gamma_cor_in,T_cor_in], axis=0)\n",
        "\n",
        "    U = jnp.concatenate([U_lower_bound_state,U_lower_bound_state,U_lower_bound_state,U_periodic_pad_with_x_boundaries[:,:,3:]],axis=2)\n",
        "    aux = jnp.concatenate([aux_lower_bound_state,aux_lower_bound_state,aux_lower_bound_state,aux_periodic_pad_with_x_boundaries[:,:,3:]],axis=2)\n",
        "    return U,aux\n",
        "\n",
        "def up_boundary(U_periodic_pad_with_x_boundaries,aux_periodic_pad_with_x_boundaries):\n",
        "    #The input must have already had the left and right boundary conditions replaced.\n",
        "    #The top and bottom boundary conditions are still pre-padded with periodic values.\n",
        "    state_periodic = U_periodic_pad_with_x_boundaries\n",
        "    gamma_periodic = aux_periodic_pad_with_x_boundaries[0:1,:,:]\n",
        "    T_periodic = aux_periodic_pad_with_x_boundaries[1:2,:,:]\n",
        "\n",
        "    # outlet boundary\n",
        "    # pressure outlet\n",
        "    # 【Note】:physical boundary starts at index -4:-3, not -3:，since -3: is padded with periodical boundaries\n",
        "    state_out = state_periodic[:,:,-4:-3]\n",
        "    gamma_out = gamma_periodic[:,:,-4:-3]\n",
        "    T_out = T_periodic[:,:,-4:-3]\n",
        "\n",
        "    rho_out = state_out[0:1,:,:]\n",
        "    u_out = state_out[1:2,:,:]/rho_out\n",
        "    v_out = state_out[2:3,:,:]/rho_out\n",
        "    Y_out = state_out[4:,:,:]/rho_out\n",
        "    R_out = thermo.get_R(Y_out)\n",
        "    p_out = rho_out*(R_out*T_out)\n",
        "    a_out = jnp.sqrt(gamma_out*p_out/rho_out)\n",
        "    mask = (v_out/a_out < 1)\n",
        "    rho_cor_out = jax.lax.select(mask, Pb / (p_out / rho_out),rho_out)\n",
        "    p_cor_out = jax.lax.select(mask, Pb*jnp.ones_like(p_out),p_out)\n",
        "    T_cor_out = jax.lax.select(mask, p_cor_out/(rho_cor_out*R_out),T_out)\n",
        "    _, gamma_out, h_out, _, _ = thermo.get_thermo(T_cor_out,Y_out)\n",
        "    U_upper_bound_state = jnp.concatenate([rho_cor_out, rho_cor_out * u_out, rho_cor_out * v_out,\n",
        "                      rho_cor_out*h_out - p_cor_out + 0.5 * rho_cor_out * (u_out ** 2 + v_out ** 2),\n",
        "                      rho_cor_out * Y_out], axis=0)\n",
        "    aux_upper_bound_state = jnp.concatenate([gamma_out,T_cor_out], axis=0)\n",
        "    U = jnp.concatenate([U_periodic_pad_with_x_boundaries[:,:,:-3],U_upper_bound_state,U_upper_bound_state,U_upper_bound_state],axis=2)\n",
        "    aux = jnp.concatenate([aux_periodic_pad_with_x_boundaries[:,:,:-3],aux_upper_bound_state,aux_upper_bound_state,aux_upper_bound_state],axis=2)\n",
        "    return U, aux\n",
        "\n",
        "boundary_conditions = {'left_boundary':left_boundary,\n",
        "             'right_boundary':right_boundary,\n",
        "             'bottom_boundary':bottom_boundary,\n",
        "             'up_boundary':up_boundary}\n",
        "\n",
        "boundary_set = {'boundary_conditions':boundary_conditions}"
      ],
      "metadata": {
        "id": "Op6tFUBiDVPs"
      },
      "execution_count": null,
      "outputs": []
    },
    {
      "cell_type": "markdown",
      "source": [
        "# Set boundary conditions"
      ],
      "metadata": {
        "id": "e3_eKIMbTJoT"
      }
    },
    {
      "cell_type": "markdown",
      "source": [
        "Here we present an easy example to implement user-defined boundary conditions.\n",
        "In JANC, implementations of user-defined boudnary conditions are simple,there isn't any .py file to be modified.\n",
        "All you need is to defiend a function right here, with following requirements:"
      ],
      "metadata": {
        "id": "hTqsSS_oheR7"
      }
    },
    {
      "cell_type": "code",
      "source": [
        "#def usr_boundary(U_bd,aux_bd,theta=None):\n",
        "\n",
        "##U_bd and aux_bd is 3 nearest layers of grids to the boundary\n",
        "\n",
        "##for example, if this function is used on right boundary,\n",
        "##the shape of U_bd and aux_bd would be (variable_num,3,ny),(2,3,ny),\n",
        "##which means U_bd = U[:,-3:,:]\n",
        "##if this function is used on bottom boundary,U_bd = U[:,:,0:3]\n",
        "\n",
        "##theta is a pytree (dict) containing any parameters you might need to define your functions\n",
        "\n",
        "##the outputs of this function is 3 layers of ghost cells,\n",
        "##and they should have the same shapes as the inputs\n",
        "#return U, aux\n",
        "\n",
        "\n",
        "##inlet boundary\n",
        "#injection equivalence ratio\n",
        "ratio = 1.0\n",
        "yH2inj = (ratio/8*0.232)/(1 + ratio/8*0.232)\n",
        "yO2inj = 0.232/(1 + ratio/8*0.232)\n",
        "\n",
        "from janc.solver.aux_func import U_to_prim\n",
        "def bottom_boundary(U_bd, aux_bd, theta=None):\n",
        "    #for bottom boundary (injection plane),the shape of U_bd is (flux_num,nx,3)\n",
        "    #aux_bd shape is (2,nx,3), aux_bd[0:1]:gamma, aux_bd[1:2]:Tempreature\n",
        "    #U_bd = U[:,:,0:3]\n",
        "    #In this case, theta contains mass fractions of the injection properllants\n",
        "\n",
        "    U_in = U_bd[:,:,0:1]\n",
        "    aux_in = aux_bd[:,:,0:1]\n",
        "    rho_in,u_in,v_in,Y_in,p_in,a_in = U_to_prim(U_in,aux_in)\n",
        "    T_in = aux_in[1:2,:,0:1]\n",
        "    gamma_in = aux_in[1:2,:,0:1]\n",
        "    _, _, h_in, R_in, _ = thermo.get_thermo(T_in,Y_in)\n",
        "\n",
        "    #interior pressure < injection pressure: velocity inlet\n",
        "    u_inj = jnp.zeros_like(u_in)\n",
        "    Y_inj = theta['Yinj']\n",
        "    v_inj, T_inj, h_inj, gamma_inj = inj_model(p_in,Y_inj)\n",
        "    R_inj = thermo.get_R(Y_inj)\n",
        "    rho_inj = p_in/(R_inj*T_inj)\n",
        "\n",
        "    #interior pressure >= injection pressure: slip wall\n",
        "    #injection is blocked\n",
        "    mask_block = (p_in >= 1.0)\n",
        "    rho_cor_in = jax.lax.select(mask_block,rho_in,rho_inj)\n",
        "    u_cor_in = jax.lax.select(mask_block,u_in,u_inj)\n",
        "    v_cor_in = jax.lax.select(mask_block,-v_in,v_inj)\n",
        "    T_cor_in = jax.lax.select(mask_block,T_in,T_inj)\n",
        "    p_cor_in = p_in\n",
        "    h_cor_in = jax.lax.select(mask_block,h_in,h_inj)\n",
        "    Y_cor_in = jax.lax.select(jnp.tile(mask_block,(theta['Yinj'].shape[0],1,1)),Y_in,Y_inj)\n",
        "    gamma_cor_in = jax.lax.select(mask_block,gamma_in,gamma_inj)\n",
        "\n",
        "    U_lower_bound_state = jnp.concatenate([rho_cor_in, rho_cor_in * u_cor_in, rho_cor_in * v_cor_in,\n",
        "                        rho_cor_in*h_cor_in - p_cor_in + 0.5 * rho_cor_in * (u_cor_in ** 2 + v_cor_in ** 2),\n",
        "                        rho_cor_in * Y_cor_in], axis=0)\n",
        "    aux_lower_bound_state = jnp.concatenate([gamma_cor_in,T_cor_in], axis=0)\n",
        "\n",
        "    U = jnp.tile(U_lower_bound_state,(1,1,3))\n",
        "    aux = jnp.tile(aux_lower_bound_state,(1,1,3))\n",
        "    return U, aux\n",
        "\n",
        "\n",
        "#injection model from Fievisohn et al.2017, see https://doi.org/10.2514/1.B36103 for details\n",
        "#this is a pressure feedback function, using pressure from the interior grid to infer the velocity et al.\n",
        "#(like velocity inlet in ANSYS FLUENT)\n",
        "def inj_model(p,Y_inj):\n",
        "    A1 = 1\n",
        "    A3 = 5\n",
        "    A2 = A3-A1\n",
        "    R = thermo.get_R(Y_inj)\n",
        "    gamma = 1.29\n",
        "    C0 = jnp.sqrt(gamma*R*1.0)\n",
        "\n",
        "    M = jnp.zeros_like(p)\n",
        "    P1 = 1.0*(1+(gamma-1)/2*M**2)**(-gamma/(gamma-1))\n",
        "    V1 = M*(1+(gamma-1)/2*M**2)**(-0.5)*C0\n",
        "    MFC = A1*1.0/jnp.sqrt(1.0)*jnp.sqrt(gamma/R)*M*(1+(gamma-1)/2*M**2)**(-(gamma+1)/2/(gamma-1))\n",
        "    A = 0.5\n",
        "    P3 = p\n",
        "    B = gamma/(gamma-1)*P3*A3/MFC\n",
        "    C = -gamma/(gamma-1)*R*1.0\n",
        "    V3 = (-B+jnp.sqrt(B**2-4*A*C))/(2*A)\n",
        "    P2 = (MFC*(V3-V1)-P1*A1+P3*A3)/A2\n",
        "\n",
        "    M1 = jnp.zeros_like(p)\n",
        "    M2 = jnp.ones_like(p)\n",
        "    p_cor = p\n",
        "\n",
        "    for i in range(20):\n",
        "        M = 0.5*(M1+M2)\n",
        "        P1 = 1.0*(1+(gamma-1)/2*M**2)**(-gamma/(gamma-1))\n",
        "        V1 = M*(1+(gamma-1)/2*M**2)**(-0.5)*C0\n",
        "        MFC = A1*1.0/jnp.sqrt(1.0)*jnp.sqrt(gamma/R)*M*(1+(gamma-1)/2*M**2)**(-(gamma+1)/2/(gamma-1))\n",
        "        A = 0.5\n",
        "        B = gamma/(gamma-1)*P3*A3/MFC\n",
        "        C = -gamma/(gamma-1)*R*1.0\n",
        "        V3 = (-B+jnp.sqrt(B**2-4*A*C))/(2*A)\n",
        "        P2 = (MFC*(V3-V1)-P1*A1+P3*A3)/A2\n",
        "\n",
        "        M2 = jax.lax.select(P2>=P1,M,M2)\n",
        "        M1 = jax.lax.select(P2<P1,M,M1)\n",
        "\n",
        "    rho_cor = MFC/V3/A3\n",
        "    v_cor = V3\n",
        "    T_cor = p_cor/(R*rho_cor)\n",
        "    _, gamma, h_cor, _, _ = thermo.get_thermo(T_cor,Y_inj)\n",
        "    return v_cor, T_cor, h_cor, gamma\n",
        "\n",
        "\n",
        "##inlet boundary\n",
        "#injection equivalence ratio\n",
        "ratio = 1.0\n",
        "yH2inj = (ratio/8*0.232)/(1 + ratio/8*0.232)\n",
        "yO2inj = 0.232/(1 + ratio/8*0.232)\n",
        "\n",
        "Yinj = jnp.concatenate([jnp.array([yH2inj,yO2inj]),1e-20*jnp.ones((8-2))],axis=0)\n",
        "Yinj_cor = jnp.expand_dims(Yinj,(1,2))\n",
        "Yinj_cor = jnp.tile(jnp.expand_dims(Yinj,(1,2)),(1,nx+2*3,1))\n",
        "\n",
        "##outlet boundary:pressure_outlet\n",
        "#JANC has built-in pressure_outlet boundary conditions\n",
        "#theta should contain 'Pb' when using pressure_outlet bc.\n",
        "#back pressure\n",
        "Pb = 101325/P0\n",
        "\n",
        "theta = {'Yinj': jnp.tile(jnp.expand_dims(Yinj,(1,2)),(1,nx,1)),\n",
        "      'Pb': Pb}\n",
        "\n",
        "boundary_config = {'left_boundary':'periodic',\n",
        "           'right_boundary':'periodic',\n",
        "           'bottom_boundary':bottom_boundary,\n",
        "           'up_boundary':'pressure_outlet'}"
      ],
      "metadata": {
        "id": "KJLHD8GMTNhy"
      },
      "execution_count": null,
      "outputs": []
    },
    {
      "cell_type": "markdown",
      "source": [
        "# Initializations"
      ],
      "metadata": {
        "id": "QozMaGNh9veP"
      }
    },
    {
      "cell_type": "code",
      "source": [
        "thermo_config = {'is_detailed_chemistry':True,\n",
        "         'thermo_model':'nasa7',\n",
        "         'mechanism_diretory':'9sp-19r-H2-Air.yaml'}\n",
        "\n",
        "advance_one_step, rhs = solver.set_solver(thermo_config,boundary_config)\n",
        "#advance_one_step: time advance functions, advance current state one time step dt.\n",
        "#rhs: right-hand side of the Euler-equations: dUdt = rhs,\n",
        "#normally, 【advance_one_step is all you need】. However, when it comes to machine-learning tasks,\n",
        "#rhs can be embedded in a differentiable optimization loop"
      ],
      "metadata": {
        "id": "MnExYIkRZEdD"
      },
      "execution_count": null,
      "outputs": []
    },
    {
      "cell_type": "code",
      "source": [
        "def initial_conditions():\n",
        "    Penv = 1*101325/P0; Tenv = 300/T0; yH2env = 0; yO2env = 0.232;\n",
        "    Pignition = 20*101325/P0; Tignition = 3000/T0;\n",
        "    Yenv = jnp.array([yH2env,yO2env,0,0,0,0,0,0])\n",
        "    Yfill = jnp.array([yH2inj,yO2inj,0,0,0,0,0,0])\n",
        "\n",
        "    ignition_width = 108;ignition_height = 288\n",
        "\n",
        "    Y_init = jnp.broadcast_to(Yenv[:,None,None],(8,nx,ny))\n",
        "    Y_fill = jnp.broadcast_to(Yfill[:,None,None],(8, nx//2, ignition_height))\n",
        "    Y_init = Y_init.at[:, 0:nx//2, 0:ignition_height].set(Y_fill)\n",
        "\n",
        "    T_init = jnp.full((1,nx,ny),Tenv)\n",
        "    T_init = T_init.at[:,0:ignition_width,0:ignition_height].set(Tignition)\n",
        "\n",
        "    P_init = jnp.full((1,nx,ny),Penv)\n",
        "    P_init = P_init.at[:,0:ignition_width,0:ignition_height].set(Pignition)\n",
        "\n",
        "    _,gamma_init,h_init,R_init,_ = thermo.get_thermo(T_init,Y_init)\n",
        "\n",
        "    rho_init = P_init/(R_init*T_init)\n",
        "    E_init = rho_init*h_init - P_init\n",
        "    rhou_init = jnp.zeros((1,nx,ny))\n",
        "    rhov_init = jnp.zeros((1,nx,ny))\n",
        "\n",
        "\n",
        "    U_init = jnp.concatenate([rho_init,rhou_init,rhov_init,E_init,rho_init*Y_init],axis=0)\n",
        "    aux_init = jnp.concatenate([gamma_init,T_init],axis=0)\n",
        "    return U_init, aux_init\n",
        "\n",
        "U, aux = initial_conditions()\n",
        "plt.figure(figsize=(10, 4))\n",
        "x = jnp.linspace(0, Lx, nx)\n",
        "y = jnp.linspace(0, Ly, ny)\n",
        "X, Y = jnp.meshgrid(x, y, indexing='ij')\n",
        "plt.contourf(X, Y, aux[-1], levels=50, cmap='viridis')"
      ],
      "metadata": {
        "id": "iif5sUUAlWlr"
      },
      "execution_count": null,
      "outputs": []
    },
    {
      "cell_type": "markdown",
      "source": [
        "# Main loop of time advance"
      ],
      "metadata": {
        "id": "Qc1SEZ-3MnDO"
      }
    },
    {
      "cell_type": "code",
      "source": [
        "##minimum implementations of 【advance_one_step】:\n",
        "dt = 5e-9/t0\n",
        "nt = 20000\n",
        "field = jnp.concatenate([U,aux],axis=0)\n",
        "for step in tqdm(range(nt),desc=\"progress\", unit=\"step\"):\n",
        "  field = advance_one_step(field,dx,dy,dt,theta)"
      ],
      "metadata": {
        "id": "0egmsIcg93n1"
      },
      "execution_count": null,
      "outputs": []
    },
    {
      "cell_type": "markdown",
      "source": [
        "# Plot"
      ],
      "metadata": {
        "id": "0AHa7ppjROqP"
      }
    },
    {
      "cell_type": "code",
      "source": [
        "plt.figure(figsize=(10, 4))\n",
        "plt.contourf(X, Y, field[-1], levels=50, cmap='viridis')\n",
        "#plt.clim(0, 4)\n",
        "plt.xlabel('x')\n",
        "plt.ylabel('y')\n",
        "plt.colorbar()\n",
        "plt.tight_layout()\n",
        "plt.axis('equal')\n",
        "plt.show()"
      ],
      "metadata": {
        "id": "tRDCWBe5wcXO"
      },
      "execution_count": null,
      "outputs": []
    }
  ]
}