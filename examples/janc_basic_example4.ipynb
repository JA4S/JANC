{
  "nbformat": 4,
  "nbformat_minor": 0,
  "metadata": {
    "colab": {
      "provenance": [],
      "gpuType": "T4",
      "authorship_tag": "ABX9TyMwgpCBkGqcqmL5tgwfXhps",
      "include_colab_link": true
    },
    "kernelspec": {
      "name": "python3",
      "display_name": "Python 3"
    },
    "language_info": {
      "name": "python"
    },
    "accelerator": "GPU"
  },
  "cells": [
    {
      "cell_type": "markdown",
      "metadata": {
        "id": "view-in-github",
        "colab_type": "text"
      },
      "source": [
        "<a href=\"https://colab.research.google.com/github/JA4S/JANC/blob/main/examples/janc_basic_example4.ipynb\" target=\"_parent\"><img src=\"https://colab.research.google.com/assets/colab-badge.svg\" alt=\"Open In Colab\"/></a>"
      ]
    },
    {
      "cell_type": "markdown",
      "source": [
        "# Install JANC and import relevant libraries"
      ],
      "metadata": {
        "id": "J_3BJMSODN9-"
      }
    },
    {
      "cell_type": "code",
      "execution_count": null,
      "metadata": {
        "id": "W4QiY2vuC8BV"
      },
      "outputs": [],
      "source": [
        "# Copyright © 2025 Haocheng Wen, Faxuan Luo\n",
        "# SPDX-License-Identifier: MIT\n",
        "\n",
        "!pip install git+https://github.com/JA4S/JANC.git"
      ]
    },
    {
      "cell_type": "code",
      "source": [
        "from janc.thermodynamics import thermo\n",
        "from janc.solver import solver\n",
        "import jax\n",
        "import jax.numpy as jnp\n",
        "import matplotlib.pyplot as plt\n",
        "from tqdm.auto import tqdm\n",
        "\n",
        "# set JAX to use GPU\n",
        "jax.config.update(\"jax_enable_x64\", True)\n",
        "jax.config.update('jax_platform_name', 'gpu')"
      ],
      "metadata": {
        "id": "q-s095vqDTkV"
      },
      "execution_count": null,
      "outputs": []
    },
    {
      "cell_type": "markdown",
      "source": [
        "# Example : 1D Shock-tube Test"
      ],
      "metadata": {
        "id": "UerjehVgDUxt"
      }
    },
    {
      "cell_type": "code",
      "source": [
        "Lx = 20.0\n",
        "Ly = 1.0\n",
        "\n",
        "nx = 400\n",
        "ny = 5\n",
        "\n",
        "dx = Lx/nx\n",
        "dy = Ly/ny\n",
        "dt = 0.2*dx/800\n",
        "\n",
        "thermo_config = {'is_detailed_chemistry':False,\n",
        "          'species':['O2','N2'],\n",
        "          'thermo_model':'constant_gamma',\n",
        "          'gamma':1.4}\n",
        "\n",
        "boundary_config = {'left_boundary':'neumann',\n",
        "           'right_boundary':'neumann',\n",
        "           'bottom_boundary':'periodic',\n",
        "           'up_boundary':'periodic'}\n",
        "\n",
        "source_config = {'self_defined_source_terms':None}\n",
        "\n",
        "advance_one_step, _ = solver.set_solver(thermo_config,boundary_config,source_config)"
      ],
      "metadata": {
        "id": "N5o4KdgsDUMF"
      },
      "execution_count": null,
      "outputs": []
    },
    {
      "cell_type": "code",
      "source": [
        "def initial_conditions(UL,UR):\n",
        "    rhoL, rhouL, pL = UL\n",
        "    rhoR, rhouR, pR = UR\n",
        "\n",
        "    rhoE_L = pL/(1.4-1)\n",
        "    rhoE_R = pR/(1.4-1)\n",
        "\n",
        "    rho_init = rhoL*jnp.ones((nx,ny))\n",
        "    rhou_init = rhouL*jnp.ones((nx,ny))\n",
        "    rhov_init = jnp.zeros((nx,ny))\n",
        "    E_init = rhoE_L*jnp.ones((nx,ny))\n",
        "\n",
        "    rho_init = rho_init.at[round(nx/2):,:].set(rhoR)\n",
        "    rhou_init = rhou_init.at[round(nx/2):,:].set(rhouR)\n",
        "    E_init = E_init.at[round(nx/2):,:].set(rhoE_R)\n",
        "    rhoY_init = rho_init[None,:,:]*(jnp.array([0.232])[:,None,None])\n",
        "\n",
        "    U_init = jnp.concatenate([rho_init[None,:,:],rhou_init[None,:,:],rhov_init[None,:,:],E_init[None,:,:],rhoY_init],axis=0)\n",
        "\n",
        "    R = thermo.get_R(jnp.tile(jnp.array([0.232])[:,None,None],(1,nx,ny)))\n",
        "    T = pL/(rhoL*R)\n",
        "    T = T.at[:,round(nx/2):,:].set(pR/(rhoR*R[:,round(nx/2):,:]))\n",
        "    gamma = jnp.full_like(T,1.4)\n",
        "    aux_init = jnp.concatenate([gamma,T],axis=0)\n",
        "    return U_init,aux_init\n",
        "\n",
        "UL = (1,0,1e5)\n",
        "UR = (0.125,0,1e4)\n",
        "U, aux = initial_conditions(UL,UR)\n",
        "field = jnp.concatenate([U,aux],axis=0)"
      ],
      "metadata": {
        "id": "5uFE67OiDked"
      },
      "execution_count": null,
      "outputs": []
    },
    {
      "cell_type": "code",
      "source": [
        "nt = 200*round(nx/100)\n",
        "for step in tqdm(range(nt), desc=\"progress\", unit=\"step\"):\n",
        "      field = advance_one_step(field,dx,dy,dt)"
      ],
      "metadata": {
        "id": "MUwVZ0RpDm--"
      },
      "execution_count": null,
      "outputs": []
    },
    {
      "cell_type": "code",
      "source": [
        "U, aux = field[0:-2],field[-2:]\n",
        "rho = U[0,:,0]\n",
        "u = U[1,:,0]/rho\n",
        "p = (U[3,:,0]-0.5*rho*(u**2))*(1.4-1)\n",
        "x = jnp.linspace(-10,10,nx)\n",
        "\n",
        "plt.figure()\n",
        "plt.plot(x, rho, '-o', markersize=4)\n",
        "plt.xlabel('x')\n",
        "plt.ylabel('rho')\n",
        "plt.show()\n",
        "\n",
        "plt.figure()\n",
        "plt.plot(x, u, '-o', markersize=4)\n",
        "plt.xlabel('x')\n",
        "plt.ylabel('rho')\n",
        "plt.show()\n",
        "\n",
        "plt.figure()\n",
        "plt.plot(x, p, '-o', markersize=4)\n",
        "plt.xlabel('x')\n",
        "plt.ylabel('p')\n",
        "plt.show()"
      ],
      "metadata": {
        "id": "4NrNsdIzDqrf"
      },
      "execution_count": null,
      "outputs": []
    }
  ]
}