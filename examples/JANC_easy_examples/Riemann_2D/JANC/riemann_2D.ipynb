{
  "nbformat": 4,
  "nbformat_minor": 0,
  "metadata": {
    "colab": {
      "provenance": [],
      "machine_shape": "hm",
      "gpuType": "A100",
      "authorship_tag": "ABX9TyPZ6jmATFwbIDlX58sPGRy+",
      "include_colab_link": true
    },
    "kernelspec": {
      "name": "python3",
      "display_name": "Python 3"
    },
    "language_info": {
      "name": "python"
    },
    "accelerator": "GPU",
    "widgets": {
      "application/vnd.jupyter.widget-state+json": {
        "402b6b20cee6490c97899a91c6319dcf": {
          "model_module": "@jupyter-widgets/controls",
          "model_name": "HBoxModel",
          "model_module_version": "1.5.0",
          "state": {
            "_dom_classes": [],
            "_model_module": "@jupyter-widgets/controls",
            "_model_module_version": "1.5.0",
            "_model_name": "HBoxModel",
            "_view_count": null,
            "_view_module": "@jupyter-widgets/controls",
            "_view_module_version": "1.5.0",
            "_view_name": "HBoxView",
            "box_style": "",
            "children": [
              "IPY_MODEL_c54316f6a4564c52b8a4e581c498c2c1",
              "IPY_MODEL_cfdda07d1a704a5db1f4a7a93323718d",
              "IPY_MODEL_103776b51e4c4e2fa8eca7e88ea89a00"
            ],
            "layout": "IPY_MODEL_ea086f80a2f4418a80e32c09955001d4"
          }
        },
        "c54316f6a4564c52b8a4e581c498c2c1": {
          "model_module": "@jupyter-widgets/controls",
          "model_name": "HTMLModel",
          "model_module_version": "1.5.0",
          "state": {
            "_dom_classes": [],
            "_model_module": "@jupyter-widgets/controls",
            "_model_module_version": "1.5.0",
            "_model_name": "HTMLModel",
            "_view_count": null,
            "_view_module": "@jupyter-widgets/controls",
            "_view_module_version": "1.5.0",
            "_view_name": "HTMLView",
            "description": "",
            "description_tooltip": null,
            "layout": "IPY_MODEL_79b60fc038c949bfa4c793a3719402a4",
            "placeholder": "​",
            "style": "IPY_MODEL_2dd24576d3eb4c1989815a7da3ce5424",
            "value": "Simulation: 100%"
          }
        },
        "cfdda07d1a704a5db1f4a7a93323718d": {
          "model_module": "@jupyter-widgets/controls",
          "model_name": "FloatProgressModel",
          "model_module_version": "1.5.0",
          "state": {
            "_dom_classes": [],
            "_model_module": "@jupyter-widgets/controls",
            "_model_module_version": "1.5.0",
            "_model_name": "FloatProgressModel",
            "_view_count": null,
            "_view_module": "@jupyter-widgets/controls",
            "_view_module_version": "1.5.0",
            "_view_name": "ProgressView",
            "bar_style": "success",
            "description": "",
            "description_tooltip": null,
            "layout": "IPY_MODEL_8339216e274444dd8b45888fdb2ef784",
            "max": 0.3,
            "min": 0,
            "orientation": "horizontal",
            "style": "IPY_MODEL_71c9545c6eb64ba4877587f57dc7ec25",
            "value": 0.3
          }
        },
        "103776b51e4c4e2fa8eca7e88ea89a00": {
          "model_module": "@jupyter-widgets/controls",
          "model_name": "HTMLModel",
          "model_module_version": "1.5.0",
          "state": {
            "_dom_classes": [],
            "_model_module": "@jupyter-widgets/controls",
            "_model_module_version": "1.5.0",
            "_model_name": "HTMLModel",
            "_view_count": null,
            "_view_module": "@jupyter-widgets/controls",
            "_view_module_version": "1.5.0",
            "_view_name": "HTMLView",
            "description": "",
            "description_tooltip": null,
            "layout": "IPY_MODEL_6eea9d7a599d412bb5aac6f6e57b8cba",
            "placeholder": "​",
            "style": "IPY_MODEL_7fe64ed20f4747deb5556e328c5d3fbd",
            "value": " 0.3000258125331074/0.3 [00:22&lt;00:00]"
          }
        },
        "ea086f80a2f4418a80e32c09955001d4": {
          "model_module": "@jupyter-widgets/base",
          "model_name": "LayoutModel",
          "model_module_version": "1.2.0",
          "state": {
            "_model_module": "@jupyter-widgets/base",
            "_model_module_version": "1.2.0",
            "_model_name": "LayoutModel",
            "_view_count": null,
            "_view_module": "@jupyter-widgets/base",
            "_view_module_version": "1.2.0",
            "_view_name": "LayoutView",
            "align_content": null,
            "align_items": null,
            "align_self": null,
            "border": null,
            "bottom": null,
            "display": null,
            "flex": null,
            "flex_flow": null,
            "grid_area": null,
            "grid_auto_columns": null,
            "grid_auto_flow": null,
            "grid_auto_rows": null,
            "grid_column": null,
            "grid_gap": null,
            "grid_row": null,
            "grid_template_areas": null,
            "grid_template_columns": null,
            "grid_template_rows": null,
            "height": null,
            "justify_content": null,
            "justify_items": null,
            "left": null,
            "margin": null,
            "max_height": null,
            "max_width": null,
            "min_height": null,
            "min_width": null,
            "object_fit": null,
            "object_position": null,
            "order": null,
            "overflow": null,
            "overflow_x": null,
            "overflow_y": null,
            "padding": null,
            "right": null,
            "top": null,
            "visibility": null,
            "width": null
          }
        },
        "79b60fc038c949bfa4c793a3719402a4": {
          "model_module": "@jupyter-widgets/base",
          "model_name": "LayoutModel",
          "model_module_version": "1.2.0",
          "state": {
            "_model_module": "@jupyter-widgets/base",
            "_model_module_version": "1.2.0",
            "_model_name": "LayoutModel",
            "_view_count": null,
            "_view_module": "@jupyter-widgets/base",
            "_view_module_version": "1.2.0",
            "_view_name": "LayoutView",
            "align_content": null,
            "align_items": null,
            "align_self": null,
            "border": null,
            "bottom": null,
            "display": null,
            "flex": null,
            "flex_flow": null,
            "grid_area": null,
            "grid_auto_columns": null,
            "grid_auto_flow": null,
            "grid_auto_rows": null,
            "grid_column": null,
            "grid_gap": null,
            "grid_row": null,
            "grid_template_areas": null,
            "grid_template_columns": null,
            "grid_template_rows": null,
            "height": null,
            "justify_content": null,
            "justify_items": null,
            "left": null,
            "margin": null,
            "max_height": null,
            "max_width": null,
            "min_height": null,
            "min_width": null,
            "object_fit": null,
            "object_position": null,
            "order": null,
            "overflow": null,
            "overflow_x": null,
            "overflow_y": null,
            "padding": null,
            "right": null,
            "top": null,
            "visibility": null,
            "width": null
          }
        },
        "2dd24576d3eb4c1989815a7da3ce5424": {
          "model_module": "@jupyter-widgets/controls",
          "model_name": "DescriptionStyleModel",
          "model_module_version": "1.5.0",
          "state": {
            "_model_module": "@jupyter-widgets/controls",
            "_model_module_version": "1.5.0",
            "_model_name": "DescriptionStyleModel",
            "_view_count": null,
            "_view_module": "@jupyter-widgets/base",
            "_view_module_version": "1.2.0",
            "_view_name": "StyleView",
            "description_width": ""
          }
        },
        "8339216e274444dd8b45888fdb2ef784": {
          "model_module": "@jupyter-widgets/base",
          "model_name": "LayoutModel",
          "model_module_version": "1.2.0",
          "state": {
            "_model_module": "@jupyter-widgets/base",
            "_model_module_version": "1.2.0",
            "_model_name": "LayoutModel",
            "_view_count": null,
            "_view_module": "@jupyter-widgets/base",
            "_view_module_version": "1.2.0",
            "_view_name": "LayoutView",
            "align_content": null,
            "align_items": null,
            "align_self": null,
            "border": null,
            "bottom": null,
            "display": null,
            "flex": null,
            "flex_flow": null,
            "grid_area": null,
            "grid_auto_columns": null,
            "grid_auto_flow": null,
            "grid_auto_rows": null,
            "grid_column": null,
            "grid_gap": null,
            "grid_row": null,
            "grid_template_areas": null,
            "grid_template_columns": null,
            "grid_template_rows": null,
            "height": null,
            "justify_content": null,
            "justify_items": null,
            "left": null,
            "margin": null,
            "max_height": null,
            "max_width": null,
            "min_height": null,
            "min_width": null,
            "object_fit": null,
            "object_position": null,
            "order": null,
            "overflow": null,
            "overflow_x": null,
            "overflow_y": null,
            "padding": null,
            "right": null,
            "top": null,
            "visibility": null,
            "width": null
          }
        },
        "71c9545c6eb64ba4877587f57dc7ec25": {
          "model_module": "@jupyter-widgets/controls",
          "model_name": "ProgressStyleModel",
          "model_module_version": "1.5.0",
          "state": {
            "_model_module": "@jupyter-widgets/controls",
            "_model_module_version": "1.5.0",
            "_model_name": "ProgressStyleModel",
            "_view_count": null,
            "_view_module": "@jupyter-widgets/base",
            "_view_module_version": "1.2.0",
            "_view_name": "StyleView",
            "bar_color": null,
            "description_width": ""
          }
        },
        "6eea9d7a599d412bb5aac6f6e57b8cba": {
          "model_module": "@jupyter-widgets/base",
          "model_name": "LayoutModel",
          "model_module_version": "1.2.0",
          "state": {
            "_model_module": "@jupyter-widgets/base",
            "_model_module_version": "1.2.0",
            "_model_name": "LayoutModel",
            "_view_count": null,
            "_view_module": "@jupyter-widgets/base",
            "_view_module_version": "1.2.0",
            "_view_name": "LayoutView",
            "align_content": null,
            "align_items": null,
            "align_self": null,
            "border": null,
            "bottom": null,
            "display": null,
            "flex": null,
            "flex_flow": null,
            "grid_area": null,
            "grid_auto_columns": null,
            "grid_auto_flow": null,
            "grid_auto_rows": null,
            "grid_column": null,
            "grid_gap": null,
            "grid_row": null,
            "grid_template_areas": null,
            "grid_template_columns": null,
            "grid_template_rows": null,
            "height": null,
            "justify_content": null,
            "justify_items": null,
            "left": null,
            "margin": null,
            "max_height": null,
            "max_width": null,
            "min_height": null,
            "min_width": null,
            "object_fit": null,
            "object_position": null,
            "order": null,
            "overflow": null,
            "overflow_x": null,
            "overflow_y": null,
            "padding": null,
            "right": null,
            "top": null,
            "visibility": null,
            "width": null
          }
        },
        "7fe64ed20f4747deb5556e328c5d3fbd": {
          "model_module": "@jupyter-widgets/controls",
          "model_name": "DescriptionStyleModel",
          "model_module_version": "1.5.0",
          "state": {
            "_model_module": "@jupyter-widgets/controls",
            "_model_module_version": "1.5.0",
            "_model_name": "DescriptionStyleModel",
            "_view_count": null,
            "_view_module": "@jupyter-widgets/base",
            "_view_module_version": "1.2.0",
            "_view_name": "StyleView",
            "description_width": ""
          }
        }
      }
    }
  },
  "cells": [
    {
      "cell_type": "markdown",
      "metadata": {
        "id": "view-in-github",
        "colab_type": "text"
      },
      "source": [
        "<a href=\"https://colab.research.google.com/github/JA4S/JANC/blob/main/examples/JANC_easy_examples/Riemann_2D/JANC/riemann_2D.ipynb\" target=\"_parent\"><img src=\"https://colab.research.google.com/assets/colab-badge.svg\" alt=\"Open In Colab\"/></a>"
      ]
    },
    {
      "cell_type": "code",
      "execution_count": null,
      "metadata": {
        "id": "SUQuqmMwA-jv"
      },
      "outputs": [],
      "source": [
        "!pip install git+https://github.com/JA4S/JANC.git"
      ]
    },
    {
      "cell_type": "code",
      "source": [
        "from janc_easy.thermodynamics import thermo\n",
        "from janc_easy.solver import solver\n",
        "\n",
        "import jax\n",
        "import jax.numpy as jnp\n",
        "import numpy as np\n",
        "import matplotlib.pyplot as plt\n",
        "from tqdm.auto import tqdm\n",
        "import time\n",
        "\n",
        "# set JAX to use GPU\n",
        "jax.config.update(\"jax_enable_x64\", True)\n",
        "jax.config.update('jax_platform_name', 'gpu')"
      ],
      "metadata": {
        "id": "BqM0dHbHBEtQ"
      },
      "execution_count": null,
      "outputs": []
    },
    {
      "cell_type": "code",
      "source": [
        "R = 1.0\n",
        "gamma = 1.4\n",
        "thermo_config = {'gas_constant':R,\n",
        "          'gamma':gamma}\n",
        "Lx = 1.0\n",
        "Ly = 1.0\n",
        "nx = 500\n",
        "ny = 500\n",
        "dx = Lx/nx\n",
        "dy = Ly/ny"
      ],
      "metadata": {
        "id": "wxAtCZ4ABMsU"
      },
      "execution_count": null,
      "outputs": []
    },
    {
      "cell_type": "code",
      "source": [
        "boundary_config = {'left_boundary':'zero_gradient',\n",
        "           'right_boundary':'zero_gradient',\n",
        "           'bottom_boundary':'zero_gradient',\n",
        "           'up_boundary':'zero_gradient'}"
      ],
      "metadata": {
        "id": "AprMxG-mBjt6"
      },
      "execution_count": null,
      "outputs": []
    },
    {
      "cell_type": "code",
      "source": [
        "advance_one_step, rhs = solver.set_solver(thermo_config,boundary_config)"
      ],
      "metadata": {
        "colab": {
          "base_uri": "https://localhost:8080/"
        },
        "id": "YRL7dQnoBxiG",
        "outputId": "d2e88d99-8002-4e7d-998b-5c777dc3d226"
      },
      "execution_count": null,
      "outputs": [
        {
          "output_type": "stream",
          "name": "stdout",
          "text": [
            "solver is initialized successfully!\n"
          ]
        }
      ]
    },
    {
      "cell_type": "code",
      "source": [
        "def initial_conditions():\n",
        "  X, Y = jnp.meshgrid(jnp.linspace(0,Lx,nx),jnp.linspace(0,Ly,ny),indexing='ij')\n",
        "  X = X[None,:,:]\n",
        "  Y = Y[None,:,:]\n",
        "  rho = (X>=0.5)*(Y>=0.5)*1.50 + (X<0.5)*(Y>=0.5)*0.5323 + (X<0.5)*(Y<0.5)*0.1380 + (X>=0.5)*(Y<0.5)*0.5323\n",
        "  u = (X>=0.5)*(Y>=0.5)*0.0 + (X<0.5)*(Y>=0.5)*1.2060 + (X<0.5)*(Y<0.5)*1.2060 + (X>=0.5)*(Y<0.5)*0.0\n",
        "  v = (X>=0.5)*(Y>=0.5)*0.0 + (X<0.5)*(Y>=0.5)*0.0 + (X<0.5)*(Y<0.5)*1.2060 + (X>=0.5)*(Y<0.5)*1.2060\n",
        "  p = (X>=0.5)*(Y>=0.5)*1.50 + (X<0.5)*(Y>=0.5)*0.3 + (X<0.5)*(Y<0.5)*0.029 + (X>=0.5)*(Y<0.5)*0.3\n",
        "  return jnp.concatenate([rho,rho*u,rho*v,p/(gamma-1)+0.5*rho*(u**2+v**2)],axis=0)\n",
        "start = time.time()\n",
        "U = initial_conditions()\n",
        "##minimum implementations of 【advance_one_step】:\n",
        "t = 0.0\n",
        "t_end = 0.30\n",
        "bar_format = \"{l_bar}{bar}| {n_fmt}/{total_fmt} [{elapsed}<{remaining}]\"\n",
        "with tqdm(total=t_end, desc=\"Simulation\", bar_format=bar_format) as pbar:\n",
        "    while t < t_end:\n",
        "      U,t_next = advance_one_step(U,dx,dy,time=t)\n",
        "      dt = float(t_next-t)\n",
        "      if t > t_end:\n",
        "        pbar.n = pbar.total\n",
        "        pbar.refresh()\n",
        "      else:\n",
        "        pbar.update(dt)\n",
        "      t = t_next"
      ],
      "metadata": {
        "id": "Q1PAcHZLBy1P",
        "colab": {
          "base_uri": "https://localhost:8080/",
          "height": 49,
          "referenced_widgets": [
            "402b6b20cee6490c97899a91c6319dcf",
            "c54316f6a4564c52b8a4e581c498c2c1",
            "cfdda07d1a704a5db1f4a7a93323718d",
            "103776b51e4c4e2fa8eca7e88ea89a00",
            "ea086f80a2f4418a80e32c09955001d4",
            "79b60fc038c949bfa4c793a3719402a4",
            "2dd24576d3eb4c1989815a7da3ce5424",
            "8339216e274444dd8b45888fdb2ef784",
            "71c9545c6eb64ba4877587f57dc7ec25",
            "6eea9d7a599d412bb5aac6f6e57b8cba",
            "7fe64ed20f4747deb5556e328c5d3fbd"
          ]
        },
        "outputId": "4584a84f-15bd-4e16-8873-40527c752adf"
      },
      "execution_count": null,
      "outputs": [
        {
          "output_type": "display_data",
          "data": {
            "text/plain": [
              "Simulation:   0%|          | 0/0.3 [00:00<?]"
            ],
            "application/vnd.jupyter.widget-view+json": {
              "version_major": 2,
              "version_minor": 0,
              "model_id": "402b6b20cee6490c97899a91c6319dcf"
            }
          },
          "metadata": {}
        }
      ]
    },
    {
      "cell_type": "code",
      "source": [
        "X, Y = jnp.meshgrid(jnp.linspace(0,Lx,nx),jnp.linspace(0,Ly,ny),indexing='ij')\n",
        "plt.figure(figsize=(5, 5))\n",
        "plt.contourf(X, Y, U[0], levels=50, cmap='viridis')\n",
        "plt.xlabel('x')\n",
        "plt.ylabel('y')\n",
        "plt.colorbar()\n",
        "plt.tight_layout()\n",
        "plt.axis('equal')\n",
        "plt.show()"
      ],
      "metadata": {
        "colab": {
          "base_uri": "https://localhost:8080/",
          "height": 501
        },
        "id": "uHA6lFJEC0mo",
        "outputId": "545980fa-7a62-40f4-d826-0b0a1d0433a7"
      },
      "execution_count": null,
      "outputs": [
        {
          "output_type": "display_data",
          "data": {
            "text/plain": [
              "<Figure size 500x500 with 2 Axes>"
            ],
            "image/png": "[encoded data removed]"
          },
          "metadata": {}
        }
      ]
    }
  ]
}