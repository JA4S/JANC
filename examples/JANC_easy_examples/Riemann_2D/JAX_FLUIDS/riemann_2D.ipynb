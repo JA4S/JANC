{
  "cells": [
    {
      "cell_type": "markdown",
      "metadata": {
        "id": "view-in-github",
        "colab_type": "text"
      },
      "source": [
        "<a href=\"https://colab.research.google.com/github/JA4S/JANC/blob/main/examples/JANC_easy_examples/Riemann_2D/JAX_FLUIDS/riemann_2D.ipynb\" target=\"_parent\"><img src=\"https://colab.research.google.com/assets/colab-badge.svg\" alt=\"Open In Colab\"/></a>"
      ]
    },
    {
      "cell_type": "code",
      "execution_count": null,
      "metadata": {
        "id": "wdKLEEaMIXqI"
      },
      "outputs": [],
      "source": [
        "!pip install git+https://github.com/tumaer/JAXFLUIDS.git\n",
        "!wget https://raw.githubusercontent.com/JA4S/JANC/main/examples/JANC_easy_examples/Riemann_2D/JAX-FLUIDS/numerical_setup.json\n",
        "!wget https://raw.githubusercontent.com/JA4S/JANC/main/examples/JANC_easy_examples/Riemann_2D/JAX-FLUIDS/riemann2D.json"
      ]
    },
    {
      "cell_type": "code",
      "execution_count": null,
      "metadata": {
        "id": "i18BSS-7IA9k"
      },
      "outputs": [],
      "source": [
        "import os\n",
        "import time\n",
        "os.environ[\"CUDA_VISIBLE_DEVICES\"] = \"0\"\n",
        "\n",
        "from jaxfluids import InputManager, InitializationManager, SimulationManager\n",
        "from jaxfluids_postprocess import load_data, create_2D_animation, create_2D_figure"
      ]
    },
    {
      "cell_type": "code",
      "execution_count": null,
      "metadata": {
        "id": "7dnCZxcYIK9-"
      },
      "outputs": [],
      "source": [
        "# SETUP SIMULATION\n",
        "input_manager = InputManager(\"riemann2D.json\", \"numerical_setup.json\")\n",
        "initialization_manager = InitializationManager(input_manager)\n",
        "sim_manager = SimulationManager(input_manager)"
      ]
    },
    {
      "cell_type": "code",
      "execution_count": null,
      "metadata": {
        "colab": {
          "background_save": true
        },
        "id": "4bTqUXQ4IRNq"
      },
      "outputs": [],
      "source": [
        "# RUN SIMULATION\n",
        "start = time.time()\n",
        "jxf_buffers = initialization_manager.initialization()\n",
        "sim_manager.simulate(jxf_buffers)\n",
        "end = time.time()\n",
        "print(end-start)"
      ]
    },
    {
      "cell_type": "code",
      "execution_count": null,
      "metadata": {
        "colab": {
          "base_uri": "https://localhost:8080/"
        },
        "id": "R1_kINYBISyH",
        "outputId": "a1ae5297-fef1-4a9c-b3c9-96c250776bbd"
      },
      "outputs": [
        {
          "name": "stdout",
          "output_type": "stream",
          "text": [
            "Loading time snapshot 0.0000e+00\n",
            "Loading time snapshot 3.0001e-01\n"
          ]
        }
      ],
      "source": [
        "# LOAD DATA\n",
        "path = sim_manager.output_writer.save_path_domain\n",
        "quantities = [\"density\", \"velocity\", \"pressure\"]\n",
        "jxf_data = load_data(path, quantities)\n",
        "\n",
        "cell_centers = jxf_data.cell_centers\n",
        "data = jxf_data.data\n",
        "times = jxf_data.times"
      ]
    },
    {
      "cell_type": "code",
      "execution_count": null,
      "metadata": {
        "id": "_8L8LHHYIULu"
      },
      "outputs": [],
      "source": [
        "# PLOT\n",
        "nrows_ncols = (1,2)\n",
        "plot_dict = {\n",
        "    \"density\": data[\"density\"],\n",
        "    \"pressure\": data[\"pressure\"]\n",
        "}\n",
        "\n",
        "# CREATE ANIMATION\n",
        "create_2D_animation(\n",
        "    plot_dict,\n",
        "    cell_centers,\n",
        "    times,\n",
        "    nrows_ncols=nrows_ncols,\n",
        "    plane=\"xy\", plane_value=0.0,\n",
        "    interval=100)\n",
        "\n",
        "# CREATE FIGURE\n",
        "create_2D_figure(\n",
        "    plot_dict,\n",
        "    nrows_ncols,\n",
        "    cell_centers=cell_centers,\n",
        "    plane=\"xy\", plane_value=0.0,\n",
        "    save_fig=\"riemann_2D.png\")"
      ]
    }
  ],
  "metadata": {
    "accelerator": "GPU",
    "colab": {
      "gpuType": "A100",
      "machine_shape": "hm",
      "provenance": [],
      "authorship_tag": "ABX9TyOe2VyN3apAPQ1Jg9eu3aqX",
      "include_colab_link": true
    },
    "kernelspec": {
      "display_name": "Python 3",
      "name": "python3"
    },
    "language_info": {
      "name": "python"
    }
  },
  "nbformat": 4,
  "nbformat_minor": 0
}