{
  "cells": [
    {
      "cell_type": "markdown",
      "metadata": {
        "id": "view-in-github",
        "colab_type": "text"
      },
      "source": [
        "<a href=\"https://colab.research.google.com/github/JA4S/JANC/blob/main/examples/1D/Multispecies-SOD/1D_SOD.ipynb\" target=\"_parent\"><img src=\"https://colab.research.google.com/assets/colab-badge.svg\" alt=\"Open In Colab\"/></a>"
      ]
    },
    {
      "cell_type": "markdown",
      "metadata": {
        "id": "HTxRJRezd86Y"
      },
      "source": [
        "# Install JANC and import relevant libraries"
      ]
    },
    {
      "cell_type": "code",
      "source": [
        "# Copyright © 2025 Haocheng Wen, Faxuan Luo\n",
        "# SPDX-License-Identifier: MIT\n",
        "\n",
        "!pip install git+https://github.com/JA4S/JANC.git\n",
        "!wget https://raw.githubusercontent.com/JA4S/JANC/main/examples/1D/Multispecies-SOD/He-N2.yaml\n",
        "!wget https://raw.githubusercontent.com/JA4S/JANC/main/examples/1D/Multispecies-SOD/exact.mat"
      ],
      "metadata": {
        "id": "N_JSyVMQTHr8"
      },
      "execution_count": null,
      "outputs": []
    },
    {
      "cell_type": "code",
      "execution_count": null,
      "metadata": {
        "id": "SdrAh-kId86Z",
        "scrolled": true
      },
      "outputs": [],
      "source": [
        "from janc_v2.model import thermo_model\n",
        "from janc_v2.preprocess import nondim\n",
        "from janc_v2.simulation import set_simulator\n",
        "import jax\n",
        "import jax.numpy as jnp\n",
        "import numpy as np\n",
        "import matplotlib.pyplot as plt\n",
        "import scipy.io as sio\n",
        "\n",
        "# set JAX to use GPU\n",
        "jax.config.update(\"jax_enable_x64\", True)\n",
        "jax.config.update('jax_platform_name', 'gpu')"
      ]
    },
    {
      "cell_type": "markdown",
      "metadata": {
        "id": "619z8KXoSz66"
      },
      "source": [
        "# Example : 1D Multispecies-SOD"
      ]
    },
    {
      "cell_type": "markdown",
      "metadata": {
        "id": "-l844h4PeGZg"
      },
      "source": [
        "# Set grid, thermodynamics, reaction, and flux solver"
      ]
    },
    {
      "cell_type": "code",
      "execution_count": null,
      "metadata": {
        "id": "PHX6HfAeeGZg"
      },
      "outputs": [],
      "source": [
        "#grid config\n",
        "Lx = 10.0\n",
        "nx = 200\n",
        "dx = Lx/nx\n",
        "grid_config = {'dx':dx}\n",
        "\n",
        "#nondim_config\n",
        "nondim_config = {'P0':1e5,'T0':1.0,'R0':1.0,'x0':1.0}\n",
        "nondim.set_nondim(nondim_config)\n",
        "#thermo_config\n",
        "thermo_config = {'thermo_model':'nasa7',\n",
        "          'mechanism_directory':'He-N2.yaml'}\n",
        "thermo_model.set_thermo(thermo_config,nondim_config,dim='1D')\n",
        "#reaction_config\n",
        "#there is no reaction activated in this case\n",
        "reaction_config = {'is_detailed_chemistry':False\n",
        "           }\n",
        "#flux_config\n",
        "flux_config = {'solver_type':'godunov',\n",
        "        'interface_reconstruction':'MUSCL',\n",
        "        'riemann_solver':'HLLC',\n",
        "        'viscosity':'off'\n",
        "        }"
      ]
    },
    {
      "cell_type": "markdown",
      "metadata": {
        "id": "e3_eKIMbTJoT"
      },
      "source": [
        "# Set boundary conditions"
      ]
    },
    {
      "cell_type": "code",
      "execution_count": null,
      "metadata": {
        "id": "KJLHD8GMTNhy"
      },
      "outputs": [],
      "source": [
        "boundary_config = {'left_boundary':'zero_gradient',\n",
        "          'right_boundary':'zero_gradient'}"
      ]
    },
    {
      "cell_type": "markdown",
      "metadata": {
        "id": "QozMaGNh9veP"
      },
      "source": [
        "# Initializations"
      ]
    },
    {
      "cell_type": "code",
      "execution_count": null,
      "metadata": {
        "id": "MnExYIkRZEdD"
      },
      "outputs": [],
      "source": [
        "time_control = {'temporal_evolution_scheme':'RK2',\n",
        "         'CFL':0.20,\n",
        "         't_end':2.0}\n",
        "simulation_config = {'dimension':'1D',\n",
        "            'grid_config':grid_config,\n",
        "            'thermo_config':thermo_config,\n",
        "            'reaction_config':reaction_config,\n",
        "            'flux_config':flux_config,\n",
        "            'boundary_config':boundary_config,\n",
        "            'time_config':time_control}\n",
        "Simulator = set_simulator.Simulator(simulation_config)"
      ]
    },
    {
      "cell_type": "code",
      "execution_count": null,
      "metadata": {
        "id": "iif5sUUAlWlr"
      },
      "outputs": [],
      "source": [
        "def initial_conditions(UL,UR):\n",
        "    rhoL, rhouL, pL, YL = UL\n",
        "    rhoR, rhouR, pR, YR = UR\n",
        "\n",
        "    rho_init = jnp.full((1,nx),rhoL)\n",
        "    rho_init = rho_init.at[:,round(nx/2):].set(rhoR)\n",
        "    rhou_init = jnp.zeros((1,nx))\n",
        "    P_init = jnp.full((1,nx),pL)\n",
        "    P_init = P_init.at[:,round(nx/2):].set(pR)\n",
        "    Y_init = jnp.full((1,nx),YL)\n",
        "    Y_init = Y_init.at[:,round(nx/2):].set(YR)\n",
        "    R_init = thermo_model.get_R(Y_init)\n",
        "    T_init = P_init/(rho_init*R_init)\n",
        "    _,gamma_init,h_init,_,_ = thermo_model.get_thermo(T_init,Y_init)\n",
        "    E_init = rho_init*h_init - P_init\n",
        "\n",
        "    U_init = jnp.concatenate([rho_init,rhou_init,E_init,rho_init*Y_init],axis=0)\n",
        "    aux_init = jnp.concatenate([gamma_init,T_init],axis=0)\n",
        "    return U_init,aux_init\n",
        "\n",
        "UL = (1.0,0.0,1.0,0.0)\n",
        "UR = (0.125,0.0,0.1,1.0)\n",
        "U, aux = initial_conditions(UL,UR)"
      ]
    },
    {
      "cell_type": "markdown",
      "metadata": {
        "id": "Qc1SEZ-3MnDO"
      },
      "source": [
        "# Main loop of time advance"
      ]
    },
    {
      "cell_type": "code",
      "source": [
        "U_final, aux_final, t_final = Simulator.run(U,aux)"
      ],
      "metadata": {
        "colab": {
          "base_uri": "https://localhost:8080/"
        },
        "id": "uL71FuAzLj2e",
        "outputId": "95de9e9b-7727-43c5-b6be-9167a2d86e80"
      },
      "execution_count": null,
      "outputs": [
        {
          "output_type": "stream",
          "name": "stderr",
          "text": [
            "Simulation: 100%|██████████| 2.0/2.0 [00:05<00:00]\n"
          ]
        }
      ]
    },
    {
      "cell_type": "markdown",
      "source": [
        "# Postprocess"
      ],
      "metadata": {
        "id": "M4MfVm_YL0UB"
      }
    },
    {
      "cell_type": "code",
      "source": [
        "#t = 2.0 (t_end)\n",
        "time, state_dict = Simulator.saver.load('save_step1')#save_step0 always stores initial conditions\n",
        "rho = state_dict['density']\n",
        "p = state_dict['pressure']"
      ],
      "metadata": {
        "id": "O4WV8YXRL2BF"
      },
      "execution_count": null,
      "outputs": []
    },
    {
      "cell_type": "code",
      "source": [
        "exact_data = sio.loadmat('exact.mat')\n",
        "p_exact = exact_data['p_exact']\n",
        "rho_exact = exact_data['rho_exact']\n",
        "x = np.linspace(-5,5,nx)\n",
        "\n",
        "plt.figure(figsize=(6, 8))\n",
        "plt.subplot(2, 1, 1)\n",
        "plt.plot(x, rho, '-^', label='JANC')\n",
        "plt.plot(rho_exact[:,0], rho_exact[:,1], '-r', label='Lv and Ihme, 2014')\n",
        "plt.xlabel('x')\n",
        "plt.ylabel('rho')\n",
        "plt.legend()\n",
        "plt.grid(True)\n",
        "\n",
        "plt.subplot(2, 1, 2)\n",
        "plt.plot(x, p, '-^', label='JANC')\n",
        "plt.plot(p_exact[:,0], p_exact[:,1], '-r', label='Lv and Ihme, 2014')\n",
        "plt.xlabel('x')\n",
        "plt.ylabel('p')\n",
        "plt.legend()\n",
        "plt.grid(True)\n",
        "\n",
        "plt.tight_layout()\n",
        "plt.show()\n",
        "\n"
      ],
      "metadata": {
        "colab": {
          "base_uri": "https://localhost:8080/",
          "height": 807
        },
        "id": "gavHHf91HvI1",
        "outputId": "57d84bf7-7b56-4845-cfb0-842061ca133c"
      },
      "execution_count": null,
      "outputs": [
        {
          "output_type": "display_data",
          "data": {
            "text/plain": [
              "<Figure size 600x800 with 2 Axes>"
            ],
            "image/png": "[encoded data removed]"
          },
          "metadata": {}
        }
      ]
    }
  ],
  "metadata": {
    "accelerator": "GPU",
    "colab": {
      "collapsed_sections": [
        "0AHa7ppjROqP"
      ],
      "gpuType": "T4",
      "provenance": [],
      "machine_shape": "hm",
      "include_colab_link": true
    },
    "kernelspec": {
      "display_name": "Python 3",
      "name": "python3"
    },
    "language_info": {
      "codemirror_mode": {
        "name": "ipython",
        "version": 3
      },
      "file_extension": ".py",
      "mimetype": "text/x-python",
      "name": "python",
      "nbconvert_exporter": "python",
      "pygments_lexer": "ipython3",
      "version": "3.10.16"
    }
  },
  "nbformat": 4,
  "nbformat_minor": 0
}
