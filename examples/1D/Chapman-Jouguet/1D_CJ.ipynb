{
  "cells": [
    {
      "cell_type": "markdown",
      "metadata": {
        "id": "view-in-github",
        "colab_type": "text"
      },
      "source": [
        "<a href=\"https://colab.research.google.com/github/JA4S/JANC/blob/main/examples/1D/Chapman-Jouguet/1D_CJ.ipynb\" target=\"_parent\"><img src=\"https://colab.research.google.com/assets/colab-badge.svg\" alt=\"Open In Colab\"/></a>"
      ]
    },
    {
      "cell_type": "markdown",
      "metadata": {
        "id": "HTxRJRezd86Y"
      },
      "source": [
        "# Install JANC and import relevant libraries"
      ]
    },
    {
      "cell_type": "code",
      "execution_count": null,
      "metadata": {
        "colab": {
          "base_uri": "https://localhost:8080/"
        },
        "id": "N_JSyVMQTHr8",
        "outputId": "43a83ec2-78d9-4cfd-ccdb-5bba79ec1997"
      },
      "outputs": [
        {
          "output_type": "stream",
          "name": "stdout",
          "text": [
            "Collecting git+https://github.com/luofx23/JANC.git\n",
            "  Cloning https://github.com/luofx23/JANC.git to /tmp/pip-req-build-vfe2q963\n",
            "  Running command git clone --filter=blob:none --quiet https://github.com/luofx23/JANC.git /tmp/pip-req-build-vfe2q963\n",
            "  Resolved https://github.com/luofx23/JANC.git to commit 98492c7d11e8ecbde6b5aae2ba9d3f461059ba57\n",
            "  Preparing metadata (setup.py) ... \u001b[?25l\u001b[?25hdone\n",
            "Collecting jaxamr@ git+https://github.com/JA4S/JAX-AMR.git (from janc==0.1)\n",
            "  Cloning https://github.com/JA4S/JAX-AMR.git to /tmp/pip-install-zs4i04md/jaxamr_01f9977832454a6faaa030908e2e94ff\n",
            "  Running command git clone --filter=blob:none --quiet https://github.com/JA4S/JAX-AMR.git /tmp/pip-install-zs4i04md/jaxamr_01f9977832454a6faaa030908e2e94ff\n",
            "  Resolved https://github.com/JA4S/JAX-AMR.git to commit 8f58334fe3f182fe175b6d7aecf7a0fc3e5beed0\n",
            "  Preparing metadata (setup.py) ... \u001b[?25l\u001b[?25hdone\n",
            "Collecting cantera (from janc==0.1)\n",
            "  Downloading cantera-3.1.0-cp312-cp312-manylinux_2_28_x86_64.whl.metadata (9.6 kB)\n",
            "Requirement already satisfied: numpy<3,>=1.12.0 in /usr/local/lib/python3.12/dist-packages (from cantera->janc==0.1) (2.0.2)\n",
            "Collecting ruamel.yaml>=0.15.34 (from cantera->janc==0.1)\n",
            "  Downloading ruamel.yaml-0.18.15-py3-none-any.whl.metadata (25 kB)\n",
            "Collecting ruamel.yaml.clib>=0.2.7 (from ruamel.yaml>=0.15.34->cantera->janc==0.1)\n",
            "  Downloading ruamel.yaml.clib-0.2.12-cp312-cp312-manylinux_2_17_x86_64.manylinux2014_x86_64.whl.metadata (2.7 kB)\n",
            "Downloading cantera-3.1.0-cp312-cp312-manylinux_2_28_x86_64.whl (19.0 MB)\n",
            "\u001b[2K   \u001b[90m━━━━━━━━━━━━━━━━━━━━━━━━━━━━━━━━━━━━━━━━\u001b[0m \u001b[32m19.0/19.0 MB\u001b[0m \u001b[31m71.3 MB/s\u001b[0m eta \u001b[36m0:00:00\u001b[0m\n",
            "\u001b[?25hDownloading ruamel.yaml-0.18.15-py3-none-any.whl (119 kB)\n",
            "\u001b[2K   \u001b[90m━━━━━━━━━━━━━━━━━━━━━━━━━━━━━━━━━━━━━━━━\u001b[0m \u001b[32m119.7/119.7 kB\u001b[0m \u001b[31m12.8 MB/s\u001b[0m eta \u001b[36m0:00:00\u001b[0m\n",
            "\u001b[?25hDownloading ruamel.yaml.clib-0.2.12-cp312-cp312-manylinux_2_17_x86_64.manylinux2014_x86_64.whl (754 kB)\n",
            "\u001b[2K   \u001b[90m━━━━━━━━━━━━━━━━━━━━━━━━━━━━━━━━━━━━━━━━\u001b[0m \u001b[32m754.1/754.1 kB\u001b[0m \u001b[31m58.1 MB/s\u001b[0m eta \u001b[36m0:00:00\u001b[0m\n",
            "\u001b[?25hBuilding wheels for collected packages: janc, jaxamr\n",
            "  Building wheel for janc (setup.py) ... \u001b[?25l\u001b[?25hdone\n",
            "  Created wheel for janc: filename=janc-0.1-py3-none-any.whl size=123548 sha256=5716fe99cb1966ae0962feb0bda57afa7731c5e7e25c65c58cf5db7adc52604e\n",
            "  Stored in directory: /tmp/pip-ephem-wheel-cache-y2ib4q7s/wheels/ba/72/38/c54573f4e68a28890324bc9e4bf834e499aea064027993d2ea\n",
            "  Building wheel for jaxamr (setup.py) ... \u001b[?25l\u001b[?25hdone\n",
            "  Created wheel for jaxamr: filename=jaxamr-0.1-py3-none-any.whl size=14544 sha256=5d78cc978e23ed621b805b79983de08eca5628b23534b8d8b2530ecdc0a44b13\n",
            "  Stored in directory: /tmp/pip-ephem-wheel-cache-y2ib4q7s/wheels/70/1d/f4/174e4644a804d3c92aef32c6a3ec47abd32a52b445a992aea4\n",
            "Successfully built janc jaxamr\n",
            "Installing collected packages: jaxamr, ruamel.yaml.clib, ruamel.yaml, cantera, janc\n",
            "Successfully installed cantera-3.1.0 janc-0.1 jaxamr-0.1 ruamel.yaml-0.18.15 ruamel.yaml.clib-0.2.12\n"
          ]
        }
      ],
      "source": [
        "# Copyright © 2025 Haocheng Wen, Faxuan Luo\n",
        "# SPDX-License-Identifier: MIT\n",
        "\n",
        "!pip install git+https://github.com/JA4S/JANC.git"
      ]
    },
    {
      "cell_type": "code",
      "execution_count": null,
      "metadata": {
        "id": "SdrAh-kId86Z",
        "scrolled": true
      },
      "outputs": [],
      "source": [
        "from janc_v2.model import thermo_model\n",
        "from janc_v2.simulation import set_simulator\n",
        "import jax\n",
        "import jax.numpy as jnp\n",
        "import numpy as np\n",
        "import matplotlib.pyplot as plt\n",
        "\n",
        "# set JAX to use GPU\n",
        "jax.config.update(\"jax_enable_x64\", True)\n",
        "jax.config.update('jax_platform_name', 'gpu')"
      ]
    },
    {
      "cell_type": "markdown",
      "metadata": {
        "id": "619z8KXoSz66"
      },
      "source": [
        "# Example : 1D Chapman-Jouguet Detonation Tube"
      ]
    },
    {
      "cell_type": "markdown",
      "metadata": {
        "id": "-l844h4PeGZg"
      },
      "source": [
        "# Set nondimension parameters and grid"
      ]
    },
    {
      "cell_type": "code",
      "execution_count": null,
      "metadata": {
        "id": "PHX6HfAeeGZg"
      },
      "outputs": [],
      "source": [
        "#grid config\n",
        "Lx = 50\n",
        "nx = 15000\n",
        "dx = Lx/nx\n",
        "grid_config = {'dx':dx}\n",
        "\n",
        "\n",
        "#thermo_config\n",
        "R = 1.0\n",
        "gamma = 1.29\n",
        "thermo_config = {'thermo_model':'constant_gamma',\n",
        "          'gas_constant':R,\n",
        "          'gamma':gamma}\n",
        "thermo_model.set_thermo(thermo_config)\n",
        "\n",
        "\n",
        "#reaction_config\n",
        "#user-defined reaction source terms\n",
        "k = 934.7160 #pre-exponential factor\n",
        "Q = 24.6   #heat release rate\n",
        "Ea = 11.5   #activation energy\n",
        "Tc = 1.05   #ignition tempreature\n",
        "def source(U,aux,theta):\n",
        "  T = aux[-1]\n",
        "  alpha = jnp.sqrt(gamma)*(2/(gamma+1))**((gamma+1)/(2*(gamma-1)))\n",
        "  rho, rho_u, E, rho_z = U\n",
        "  z = rho_z / rho\n",
        "\n",
        "  omega = (T>Tc) * k * rho * (1 - z) * jnp.exp(- Ea / T)\n",
        "  f1 = jnp.zeros_like(rho)\n",
        "  f2 = jnp.zeros_like(f1)\n",
        "  f3 = omega*Q\n",
        "  f4 = omega\n",
        "  f = jnp.stack([f1, f2, f3, f4], axis=0)  # 合并通量\n",
        "\n",
        "  return f\n",
        "reaction_config = {'is_detailed_chemistry':False,\n",
        "           'self_defined_reaction_source_terms':source\n",
        "           }\n",
        "#flux_config\n",
        "flux_config = {'solver_type':'flux_splitting',\n",
        "        'interface_reconstruction':'WENO5_JS',\n",
        "        'split_method':'LF',\n",
        "        'viscosity':'off'\n",
        "        }"
      ]
    },
    {
      "cell_type": "markdown",
      "metadata": {
        "id": "e3_eKIMbTJoT"
      },
      "source": [
        "# Set boundary conditions"
      ]
    },
    {
      "cell_type": "code",
      "execution_count": null,
      "metadata": {
        "id": "KJLHD8GMTNhy"
      },
      "outputs": [],
      "source": [
        "boundary_config = {'left_boundary': 'slip_wall',\n",
        "           'right_boundary': 'zero-gradient'}"
      ]
    },
    {
      "cell_type": "markdown",
      "metadata": {
        "id": "QozMaGNh9veP"
      },
      "source": [
        "# Initializations"
      ]
    },
    {
      "cell_type": "code",
      "execution_count": null,
      "metadata": {
        "id": "MnExYIkRZEdD"
      },
      "outputs": [],
      "source": [
        "time_control = {'temporal_evolution_scheme':'RK2',\n",
        "         'CFL':0.20,\n",
        "         't_end':8.0}\n",
        "output_settings = {'save_dt':2.0,\n",
        "          'results_path':'results.h5'}\n",
        "computation_config = {'output_settings':output_settings}\n",
        "simulation_config = {'dimension':'1D',\n",
        "            'grid_config':grid_config,\n",
        "            'thermo_config':thermo_config,\n",
        "            'reaction_config':reaction_config,\n",
        "            'flux_config':flux_config,\n",
        "            'boundary_config':boundary_config,\n",
        "            'time_config':time_control,\n",
        "            'computation_config':computation_config}\n",
        "Simulator = set_simulator.Simulator(simulation_config)"
      ]
    },
    {
      "cell_type": "code",
      "execution_count": null,
      "metadata": {
        "id": "iif5sUUAlWlr"
      },
      "outputs": [],
      "source": [
        "def initial_conditions(P0,T0):\n",
        "    P_init = jnp.full((1,nx),P0)\n",
        "    T_init = jnp.full((1,nx),T0)\n",
        "    T_init = T_init.at[:,0].set(5.0)\n",
        "    rho_init = P_init/(R*T_init)\n",
        "    rhou_init = jnp.zeros((1,nx))\n",
        "    E_init = P_init/(gamma-1)\n",
        "    rhoz_init = jnp.zeros((1,nx))\n",
        "    U_init = jnp.concatenate([rho_init,rhou_init,E_init,rhoz_init],axis=0)\n",
        "    gamma_init = jnp.full_like(rho_init,gamma)\n",
        "    aux_init = jnp.concatenate([gamma_init,T_init],axis=0)\n",
        "    return U_init,aux_init\n",
        "P0 = 0.5\n",
        "T0 = 1.0\n",
        "U, aux = initial_conditions(P0,T0)\n",
        "x = jnp.linspace(0, Lx, nx)"
      ]
    },
    {
      "cell_type": "markdown",
      "metadata": {
        "id": "Qc1SEZ-3MnDO"
      },
      "source": [
        "# Main loop of time advance"
      ]
    },
    {
      "cell_type": "code",
      "source": [
        "U_final, aux_final, t_final = Simulator.run(U,aux)"
      ],
      "metadata": {
        "colab": {
          "base_uri": "https://localhost:8080/"
        },
        "id": "kIpc5mtXXthg",
        "outputId": "8f6a24c4-c647-46a8-e736-e5ddc11b7714"
      },
      "execution_count": null,
      "outputs": [
        {
          "output_type": "stream",
          "name": "stderr",
          "text": [
            "Simulation: 100%|██████████| 8.0/8.0 [01:31<00:00]\n"
          ]
        }
      ]
    },
    {
      "cell_type": "markdown",
      "source": [
        "# Postprocess\n",
        "Compare the solution with analytical results"
      ],
      "metadata": {
        "id": "Bl3S_uL1gVVV"
      }
    },
    {
      "cell_type": "code",
      "source": [
        "#t = 4.0\n",
        "time_4, state_dict = Simulator.saver.load('save_step2')\n",
        "p_4 = state_dict['pressure']\n",
        "T_4 = state_dict['tempreature']\n",
        "\n",
        "#t = 6.0\n",
        "time_6, state_dict = Simulator.saver.load('save_step3')\n",
        "p_6 = state_dict['pressure']\n",
        "T_6 = state_dict['tempreature']\n",
        "\n",
        "#t = 8.0\n",
        "time_8, state_dict = Simulator.saver.load('save_step4')\n",
        "p_8 = state_dict['pressure']\n",
        "T_8 = state_dict['tempreature']\n",
        "u_8 = state_dict['x-velocity']\n",
        "\n",
        "plt.figure(figsize=(10,5))\n",
        "plt.plot(x,p_4,x,p_6,x,p_8)\n",
        "plt.legend(['t=4','t=6','t=8'])\n",
        "plt.xlim(0,Lx)\n",
        "plt.xlabel('x')\n",
        "plt.ylabel('p')\n",
        "plt.show()"
      ],
      "metadata": {
        "colab": {
          "base_uri": "https://localhost:8080/",
          "height": 465
        },
        "id": "Ix7NvYGngYld",
        "outputId": "e8b93a62-a436-4257-ee3a-a07568aee4a8"
      },
      "execution_count": null,
      "outputs": [
        {
          "output_type": "display_data",
          "data": {
            "text/plain": [
              "<Figure size 1000x500 with 1 Axes>"
            ],
            "image/png": "[encoded data removed]"
          },
          "metadata": {}
        }
      ]
    },
    {
      "cell_type": "markdown",
      "source": [
        "metric1: CJ speed"
      ],
      "metadata": {
        "id": "Xa-sEhS9usFY"
      }
    },
    {
      "cell_type": "code",
      "source": [
        "#wave speed\n",
        "index1 = np.argmax(p_8)\n",
        "index2 = np.argmax(p_6)\n",
        "D = (index1-index2)*dx/(time_8-time_6)\n",
        "M = D/np.sqrt(gamma*R*T0)\n",
        "\n",
        "#CJ speed\n",
        "MCJ = np.sqrt(1+Q*(gamma**2-1)/(2*gamma))+np.sqrt(Q*(gamma**2-1)/(2*gamma))\n",
        "error = (np.abs(MCJ-M)/MCJ)*100\n",
        "\n",
        "print(f'relative error of CJ speed:{error:.3f}%')"
      ],
      "metadata": {
        "colab": {
          "base_uri": "https://localhost:8080/"
        },
        "id": "HTTbMAVysO1M",
        "outputId": "56260546-cc10-48a9-8cfe-b62847702f51"
      },
      "execution_count": null,
      "outputs": [
        {
          "output_type": "stream",
          "name": "stdout",
          "text": [
            "relative error of CJ speed:0.028%\n"
          ]
        }
      ]
    },
    {
      "cell_type": "markdown",
      "source": [
        "metric2: VN state"
      ],
      "metadata": {
        "id": "R7WX-t_juwQP"
      }
    },
    {
      "cell_type": "code",
      "source": [
        "#VN state\n",
        "p_ratio = np.max(p_8)/P0\n",
        "\n",
        "#theoretical\n",
        "p_ratio_r = 1+2*gamma/(gamma+1)*(MCJ**2-1)\n",
        "error = 100*np.abs(p_ratio_r-p_ratio)/p_ratio_r\n",
        "\n",
        "print(f'relative error of VN state (pressure):{error:.3f}%')"
      ],
      "metadata": {
        "colab": {
          "base_uri": "https://localhost:8080/"
        },
        "id": "epWnZLw4u7rj",
        "outputId": "39fcaf88-eabf-495a-dfd6-883f74e87458"
      },
      "execution_count": null,
      "outputs": [
        {
          "output_type": "stream",
          "name": "stdout",
          "text": [
            "relative error of VN state (pressure):11.613%\n"
          ]
        }
      ]
    },
    {
      "cell_type": "markdown",
      "source": [
        "metric3: CJ state"
      ],
      "metadata": {
        "id": "tn2KFIpjyJvE"
      }
    },
    {
      "cell_type": "code",
      "source": [
        "#CJ state\n",
        "ur = u_8 - D\n",
        "Mr = np.abs(ur/np.sqrt(gamma*R*T_8))\n",
        "index = np.argmin(np.abs(Mr-1.0))\n",
        "p_ratio = p_8[index]/P0\n",
        "T_ratio = T_8[index]/T0\n",
        "rho_ratio_r = 1+1/gamma\n",
        "T2 = 2*gamma**2/(1+gamma)*(T0 + Q/(gamma/(gamma-1)))\n",
        "T_ratio_r = T2/T0\n",
        "p_ratio_r = rho_ratio_r*T_ratio_r\n",
        "error = 100*np.abs(p_ratio_r-p_ratio)/p_ratio_r\n",
        "print(f'relative error of CJ state (pressure):{error:.3f}%')"
      ],
      "metadata": {
        "colab": {
          "base_uri": "https://localhost:8080/"
        },
        "id": "R06F7GdczIhJ",
        "outputId": "61c1f2c6-357a-4803-cb61-df1448c9b790"
      },
      "execution_count": null,
      "outputs": [
        {
          "output_type": "stream",
          "name": "stdout",
          "text": [
            "relative error of CJ state (pressure):6.112%\n"
          ]
        }
      ]
    }
  ],
  "metadata": {
    "accelerator": "GPU",
    "colab": {
      "gpuType": "A100",
      "machine_shape": "hm",
      "provenance": [],
      "collapsed_sections": [
        "HTxRJRezd86Y"
      ],
      "include_colab_link": true
    },
    "kernelspec": {
      "display_name": "Python 3",
      "name": "python3"
    },
    "language_info": {
      "codemirror_mode": {
        "name": "ipython",
        "version": 3
      },
      "file_extension": ".py",
      "mimetype": "text/x-python",
      "name": "python",
      "nbconvert_exporter": "python",
      "pygments_lexer": "ipython3",
      "version": "3.10.16"
    }
  },
  "nbformat": 4,
  "nbformat_minor": 0
}