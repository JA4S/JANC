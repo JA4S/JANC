{
  "cells": [
    {
      "cell_type": "markdown",
      "metadata": {
        "id": "view-in-github",
        "colab_type": "text"
      },
      "source": [
        "<a href=\"https://colab.research.google.com/github/JA4S/JANC/blob/main/examples/1D/Ignition-Delay/0D_ignition_delay.ipynb\" target=\"_parent\"><img src=\"https://colab.research.google.com/assets/colab-badge.svg\" alt=\"Open In Colab\"/></a>"
      ]
    },
    {
      "cell_type": "markdown",
      "metadata": {
        "id": "Kqjfs29W6vqL"
      },
      "source": [
        "# Install JANC and import relevant libraries"
      ]
    },
    {
      "cell_type": "code",
      "execution_count": null,
      "metadata": {
        "id": "P_ZY6Ts175-f"
      },
      "outputs": [],
      "source": [
        "!pip install git+https://github.com/JA4S/JANC.git\n",
        "!wget https://raw.githubusercontent.com/JA4S/JANC/main/examples/1D/Ignition-delay/9sp-19r-H2-Air.yaml"
      ]
    },
    {
      "cell_type": "code",
      "source": [
        "from janc_v2.model import thermo_model\n",
        "from janc_v2.simulation import set_simulator\n",
        "\n",
        "import cantera as ct\n",
        "import jax\n",
        "import jax.numpy as jnp\n",
        "import numpy as np\n",
        "import matplotlib.pyplot as plt\n",
        "\n",
        "# set JAX to use GPU\n",
        "jax.config.update(\"jax_enable_x64\", True)\n",
        "jax.config.update('jax_platform_name', 'gpu')"
      ],
      "metadata": {
        "id": "Tifn9CoSuZ-X"
      },
      "execution_count": null,
      "outputs": []
    },
    {
      "cell_type": "markdown",
      "source": [
        "# Example : 0D Ignition-delay"
      ],
      "metadata": {
        "id": "HUxGePbKGaWU"
      }
    },
    {
      "cell_type": "code",
      "source": [
        "#grid config\n",
        "#this is essentially a 【0D】 simulation\n",
        "Lx = 1.0\n",
        "nx = 5\n",
        "dx = Lx/nx\n",
        "grid_config = {'dx':dx}\n",
        "\n",
        "thermo_config = {'thermo_model':'nasa7',\n",
        "         'mechanism_directory':'9sp-19r-H2-Air.yaml'\n",
        "          }\n",
        "thermo_model.set_thermo(thermo_config)\n",
        "#reaction_config\n",
        "reaction_config = {'is_detailed_chemistry':True,\n",
        "           'mechanism_directory':'9sp-19r-H2-Air.yaml'\n",
        "          }\n",
        "#flux_config\n",
        "flux_config = {'solver_type':'flux_splitting',\n",
        "        'interface_reconstruction':'WENO5_JS',\n",
        "        'split_method':'LF',\n",
        "        'viscosity':'off'\n",
        "        }\n",
        "boundary_config = {'left_boundary':'periodic',\n",
        "           'right_boundary':'periodic'}"
      ],
      "metadata": {
        "id": "cU3DDifhBW2L"
      },
      "execution_count": null,
      "outputs": []
    },
    {
      "cell_type": "code",
      "source": [
        "dt = 5e-9\n",
        "t_end = 6e-6\n",
        "time_control = {'temporal_evolution_scheme':'TVD_RK3',\n",
        "         'dt':dt,\n",
        "         't_end':t_end}\n",
        "output_settings = {'save_dt':dt,\n",
        "           'results_path':'results.h5'}\n",
        "computation_config = {'output_settings':output_settings}\n",
        "simulation_config = {'dimension':'1D',\n",
        "            'grid_config':grid_config,\n",
        "            'thermo_config':thermo_config,\n",
        "            'reaction_config':reaction_config,\n",
        "            'flux_config':flux_config,\n",
        "            'boundary_config':boundary_config,\n",
        "            'time_config':time_control,\n",
        "            'computation_config':computation_config}\n",
        "Simulator = set_simulator.Simulator(simulation_config)"
      ],
      "metadata": {
        "id": "mV1GP3lUBxqP"
      },
      "execution_count": null,
      "outputs": []
    },
    {
      "cell_type": "code",
      "source": [
        "initial_temp = 1700\n",
        "initial_pressure = 20 * ct.one_atm\n",
        "def initial_conditions(P,T,EQ):\n",
        "    yH2 = (EQ/8*0.232)/(1 + EQ/8*0.232)\n",
        "    yO2 = 0.232/(1 + EQ/8*0.232)\n",
        "    Y = jnp.tile(jnp.array([yH2,yO2,0.0,0.0,0.0,0.0,0.0,0.0])[:,None],(1,nx))\n",
        "    T = jnp.full_like(Y[0:1],T)\n",
        "    P = jnp.full_like(Y[0:1],P)\n",
        "    _,gamma, h, R,_ = thermo_model.get_thermo(T,Y)\n",
        "\n",
        "    rho_init = P/(R*T)\n",
        "    rhou_init = jnp.zeros_like(rho_init)\n",
        "    E_init = rho_init*h - P\n",
        "    rhoY_init = rho_init*Y\n",
        "    U_init = jnp.concatenate([rho_init,rhou_init,E_init,rhoY_init],axis=0)\n",
        "    aux_init = jnp.concatenate([gamma,T],axis=0)\n",
        "    return U_init, aux_init\n",
        "\n",
        "Pi = initial_pressure\n",
        "Ti = initial_temp\n",
        "EQ = 1.0\n",
        "U, aux = initial_conditions(Pi,Ti,EQ)"
      ],
      "metadata": {
        "id": "OVr3mM7CB5hO"
      },
      "execution_count": null,
      "outputs": []
    },
    {
      "cell_type": "code",
      "source": [
        "U_final, aux_final, t_final = Simulator.run(U,aux)"
      ],
      "metadata": {
        "colab": {
          "base_uri": "https://localhost:8080/"
        },
        "id": "dS1B_dCjFGco",
        "outputId": "f66ae435-214a-477c-8180-6ccf3462e56f"
      },
      "execution_count": null,
      "outputs": [
        {
          "output_type": "stream",
          "name": "stderr",
          "text": [
            "Simulation: 100%|██████████| 6e-06/6e-06 [00:08<00:00]\n"
          ]
        }
      ]
    },
    {
      "cell_type": "markdown",
      "source": [
        "# Postprocess"
      ],
      "metadata": {
        "id": "mqVw34rLbFk7"
      }
    },
    {
      "cell_type": "code",
      "source": [
        "t, state_dict = Simulator.saver.load_all()\n",
        "t = 1000*t             #change to millisecond(ms)\n",
        "T = state_dict['tempreature'][:,0] #T is uniformly distributed among grids, we only chose the results from the first grid"
      ],
      "metadata": {
        "id": "Nz1ZPxdpbHu_"
      },
      "execution_count": null,
      "outputs": []
    },
    {
      "cell_type": "code",
      "source": [
        "#Using temporal derivatives of T to calculate ignition delay\n",
        "dTdt = np.diff(T) / np.diff(t)\n",
        "ignition_index = np.argmax(dTdt) + 1  #index for max derivative\n",
        "ignition_delay = t[ignition_index]\n",
        "\n",
        "print(f\"ignition_delay: {ignition_delay:.2e} ms\")\n",
        "\n",
        "plt.figure()\n",
        "plt.plot(t, T, '-o', markersize=4)\n",
        "plt.xlabel('time(ms)')\n",
        "plt.ylabel('T(K)')\n",
        "plt.title('H2-O2-ignition')\n",
        "plt.axvline(ignition_delay, color='red', linestyle='--', label=f'ignition delay: {ignition_delay:.2e} ms')\n",
        "plt.legend()\n",
        "plt.show()"
      ],
      "metadata": {
        "id": "7lbu9-bYchTw",
        "colab": {
          "base_uri": "https://localhost:8080/",
          "height": 491
        },
        "outputId": "b3d01f90-451f-4d70-8422-41fba39ff9e2"
      },
      "execution_count": null,
      "outputs": [
        {
          "output_type": "stream",
          "name": "stdout",
          "text": [
            "ignition_delay: 3.15e-04 ms\n"
          ]
        },
        {
          "output_type": "display_data",
          "data": {
            "text/plain": [
              "<Figure size 640x480 with 1 Axes>"
            ],
            "image/png": "[encoded data removed]"
          },
          "metadata": {}
        }
      ]
    },
    {
      "cell_type": "markdown",
      "source": [
        "Compare the results with Cantera"
      ],
      "metadata": {
        "id": "l64KFQbDMCCw"
      }
    },
    {
      "cell_type": "code",
      "source": [
        "\n",
        "#load the same reaction mechanism as JANC\n",
        "gas = ct.Solution('9sp-19r-H2-Air.yaml')\n",
        "\n",
        "#H2-Air mixture with equivalence ratio = 1.0\n",
        "gas.set_equivalence_ratio(1.0, 'H2', {'O2': 1.0, 'N2': 3.76})\n",
        "\n",
        "#same initial tempreature and pressure as JANC\n",
        "gas.TP = initial_temp, initial_pressure\n",
        "\n",
        "\n",
        "reactor = ct.IdealGasReactor(gas)\n",
        "sim = ct.ReactorNet([reactor])\n",
        "\n",
        "\n",
        "max_simulation_time = t_end\n",
        "times = []\n",
        "temperatures = []\n",
        "\n",
        "\n",
        "while sim.time < max_simulation_time:\n",
        "    time = sim.step()\n",
        "    times.append(1000*sim.time)  #change to millisecond\n",
        "    temperatures.append(reactor.T)\n",
        "\n",
        "\n",
        "dTdt = np.diff(temperatures) / np.diff(times)\n",
        "ignition_index = np.argmax(dTdt) + 1\n",
        "ignition_delay = times[ignition_index]\n",
        "\n",
        "print(f\"ignition_delay: {ignition_delay:.2e} ms\")\n",
        "\n",
        "plt.figure()\n",
        "plt.plot(times, temperatures, '-o', markersize=4)\n",
        "plt.xlabel('time(ms)')\n",
        "plt.ylabel('T(K)')\n",
        "plt.title('H2-O2-ignition')\n",
        "plt.axvline(ignition_delay, color='red', linestyle='--', label=f'ignition delay: {ignition_delay:.2e} ms')\n",
        "plt.legend()\n",
        "plt.show()"
      ],
      "metadata": {
        "colab": {
          "base_uri": "https://localhost:8080/",
          "height": 528
        },
        "id": "ySfEtZVrJ7kp",
        "outputId": "27a20d07-e7f8-4822-be5c-a1cce242cd50"
      },
      "execution_count": null,
      "outputs": [
        {
          "output_type": "stream",
          "name": "stdout",
          "text": [
            "开始模拟...\n",
            "<cantera.reactor.ReactorNet object at 0x40701ad0>\n",
            "ignition_delay: 3.39e-04 ms\n"
          ]
        },
        {
          "output_type": "display_data",
          "data": {
            "text/plain": [
              "<Figure size 640x480 with 1 Axes>"
            ],
            "image/png": "[encoded data removed]"
          },
          "metadata": {}
        }
      ]
    }
  ],
  "metadata": {
    "accelerator": "GPU",
    "colab": {
      "collapsed_sections": [
        "Kqjfs29W6vqL",
        "S_mWEpXbixAT",
        "PqtkZfbC66Jn",
        "6cev48zz7F9b"
      ],
      "gpuType": "T4",
      "machine_shape": "hm",
      "provenance": [],
      "mount_file_id": "1UbcExIVpQxSnjO3s1Lt_Hn88c3gAxfXa",
      "authorship_tag": "ABX9TyPsoH6M0nxawhl8Sww2ud5T",
      "include_colab_link": true
    },
    "kernelspec": {
      "display_name": "Python 3",
      "name": "python3"
    },
    "language_info": {
      "name": "python"
    }
  },
  "nbformat": 4,
  "nbformat_minor": 0
}