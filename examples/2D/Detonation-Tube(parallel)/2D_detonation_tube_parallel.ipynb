{
  "nbformat": 4,
  "nbformat_minor": 0,
  "metadata": {
    "colab": {
      "provenance": [],
      "machine_shape": "hm",
      "gpuType": "V28",
      "collapsed_sections": [
        "1GjWrTaIj1XX",
        "aLrW0-M2Tc3X",
        "caQoW2I-Tllz",
        "FgVm0D3qk-up"
      ],
      "mount_file_id": "14jfi9qv2F8Vm2iZuUekFEN-qVabbawly",
      "authorship_tag": "ABX9TyMVxva7JLLsJ7WxJLazPNp7",
      "include_colab_link": true
    },
    "kernelspec": {
      "name": "python3",
      "display_name": "Python 3"
    },
    "language_info": {
      "name": "python"
    },
    "accelerator": "TPU"
  },
  "cells": [
    {
      "cell_type": "markdown",
      "metadata": {
        "id": "view-in-github",
        "colab_type": "text"
      },
      "source": [
        "<a href=\"https://colab.research.google.com/github/JA4S/JANC/blob/main/examples/2D/Detonation-Tube(parallel)/2D_detonation_tube_parallel.ipynb\" target=\"_parent\"><img src=\"https://colab.research.google.com/assets/colab-badge.svg\" alt=\"Open In Colab\"/></a>"
      ]
    },
    {
      "cell_type": "markdown",
      "source": [
        "# Install JANC and import relevant libraries"
      ],
      "metadata": {
        "id": "1GjWrTaIj1XX"
      }
    },
    {
      "cell_type": "code",
      "source": [
        "# Copyright © 2025 Haocheng Wen, Faxuan Luo\n",
        "# SPDX-License-Identifier: MIT\n",
        "\n",
        "!pip install git+https://github.com/JA4S/JANC.git\n",
        "!wget https://raw.githubusercontent.com/JA4S/JANC/main/examples/2D/Detonation-Tube/9sp-19r-H2-Air.yaml"
      ],
      "metadata": {
        "id": "JuVfb61NL5Ci"
      },
      "execution_count": null,
      "outputs": []
    },
    {
      "cell_type": "code",
      "source": [
        "from janc_v2.model import thermo_model\n",
        "from janc_v2.simulation import set_simulator\n",
        "\n",
        "import jax\n",
        "import jax.numpy as jnp\n",
        "import numpy as np\n",
        "import matplotlib.pyplot as plt\n",
        "\n",
        "# set JAX to use GPU\n",
        "jax.config.update(\"jax_enable_x64\", True)\n",
        "jax.config.update('jax_platform_name', 'gpu')"
      ],
      "metadata": {
        "id": "3r1b_naNtntN"
      },
      "execution_count": null,
      "outputs": []
    },
    {
      "cell_type": "markdown",
      "source": [
        "# Parallel device settings"
      ],
      "metadata": {
        "id": "4JMEb5kx8-EG"
      }
    },
    {
      "cell_type": "code",
      "source": [
        "# 【the parallel mode of JANC requires more than 1 device (GPU or TPU)】\n",
        "\n",
        "##【NOT RECOMMENDED】:\n",
        "# if you are running examples on 【colab】, you should choose 【'v2-8 TPU'】\n",
        "# however, only F32 are supported by v2-8 TPU, which is easily introduce instability to the solver,\n",
        "# and, the speed of v2-8 TPU is too slow to support the detonation-tube problem on 4,000,000 grids.\n",
        "#【Therefore, we recommend you to run this example on your local GPU devices】\n",
        "jax.config.update(\"jax_enable_x64\", False) #only F32 are supported by v2-8 TPU\n",
        "jax.config.update('jax_platform_name', 'tpu')\n",
        "\n",
        "##【RECOMMENDED】\n",
        "# if you are running examples on your local GPU devices, the following platform name should be 【gpu】\n",
        "#jax.config.update(\"jax_enable_x64\", True)\n",
        "#jax.config.update('jax_platform_name', 'gpu')"
      ],
      "metadata": {
        "id": "ybThAwYJ9D9X"
      },
      "execution_count": null,
      "outputs": []
    },
    {
      "cell_type": "markdown",
      "source": [
        "# Example : H2-Air Detonation Tube"
      ],
      "metadata": {
        "id": "7UVJcnm7TT6o"
      }
    },
    {
      "cell_type": "markdown",
      "source": [
        "# Set grid, thermodynamics, reactions, and flux solver"
      ],
      "metadata": {
        "id": "aLrW0-M2Tc3X"
      }
    },
    {
      "cell_type": "code",
      "source": [
        "Lx = 0.05\n",
        "Ly = 0.0125\n",
        "\n",
        "nx = 4000\n",
        "ny = 1000\n",
        "\n",
        "dx = Lx/nx\n",
        "dy = Ly/ny\n",
        "\n",
        "grid_config = {'dx':dx,'dy':dy}\n",
        "\n",
        "thermo_config = {'thermo_model':'nasa7',\n",
        "         'mechanism_directory':'9sp-19r-H2-Air.yaml'\n",
        "          }\n",
        "thermo_model.set_thermo(thermo_config)\n",
        "#reaction_config\n",
        "reaction_config = {'is_detailed_chemistry':True,\n",
        "           'mechanism_directory':'9sp-19r-H2-Air.yaml'\n",
        "          }\n",
        "#flux_config\n",
        "flux_config = {'solver_type':'flux_splitting',\n",
        "        'interface_reconstruction':'WENO5_JS',\n",
        "        'split_method':'LF',\n",
        "        'viscosity':'off'\n",
        "        }"
      ],
      "metadata": {
        "id": "jfcJtg6_Tc3X"
      },
      "execution_count": null,
      "outputs": []
    },
    {
      "cell_type": "markdown",
      "source": [
        "# Set boundary conditions"
      ],
      "metadata": {
        "id": "e3_eKIMbTJoT"
      }
    },
    {
      "cell_type": "code",
      "source": [
        "boundary_config = {'left_boundary':'slip_wall',\n",
        "           'right_boundary':'slip_wall',\n",
        "           'bottom_boundary':'slip_wall',\n",
        "           'top_boundary':'slip_wall'}"
      ],
      "metadata": {
        "id": "KJLHD8GMTNhy"
      },
      "execution_count": null,
      "outputs": []
    },
    {
      "cell_type": "markdown",
      "source": [
        "# Initializations"
      ],
      "metadata": {
        "id": "N1KgTRkjTfgH"
      }
    },
    {
      "cell_type": "code",
      "source": [
        "time_control = {'temporal_evolution_scheme':'TVD_RK3',\n",
        "         'dt':5e-10,\n",
        "         't_end':10e-6}\n",
        "#Set 【is_parallel】 to be True, other settings are exactly the same as the single-GPU version\n",
        "computation_config = {'is_parallel':True}\n",
        "simulation_config = {'dimension':'2D',\n",
        "            'grid_config':grid_config,\n",
        "            'thermo_config':thermo_config,\n",
        "            'reaction_config':reaction_config,\n",
        "            'flux_config':flux_config,\n",
        "            'boundary_config':boundary_config,\n",
        "            'time_config':time_control,\n",
        "            'computation_config':computation_config}\n",
        "Simulator = set_simulator.Simulator(simulation_config)"
      ],
      "metadata": {
        "id": "hTPaf4_dTfgH"
      },
      "execution_count": null,
      "outputs": []
    },
    {
      "cell_type": "code",
      "source": [
        "def initial_conditions():\n",
        "    #nondimensionalize the pressure and tempreature using P0,T0\n",
        "    Penv = 1.0*101325; Tenv = 300; yH2env = 0.028; yO2env = 0.226;\n",
        "    Pignition = 75*101325; Tignition = 3500;\n",
        "    #set the mass fractions for the species (except inert species N2, which leaves 8 species to set)\n",
        "    Yenv = jnp.array([yH2env,yO2env,0,0,0,0,0,0])\n",
        "\n",
        "    #set ignition zone (rectangular shape)\n",
        "    ignition_width = 160\n",
        "    ignition_height = ny\n",
        "    Y_init = jnp.broadcast_to(Yenv[:,None,None],(8,nx,ny))\n",
        "    T_init = jnp.full((1,nx,ny),Tenv)\n",
        "    T_init = T_init.at[:,0:ignition_width,0:ignition_height].set(Tignition)\n",
        "    P_init = jnp.full((1,nx,ny),Penv)\n",
        "    P_init = P_init.at[:,0:ignition_width,0:ignition_height].set(Pignition)\n",
        "    #set ignition zone (circle shape)\n",
        "    temp_x = jnp.linspace(0, nx, nx)\n",
        "    temp_y = jnp.linspace(0, ny, ny)\n",
        "    temp_x, temp_y = jnp.meshgrid(temp_y, temp_x)\n",
        "    radius = ignition_width//2\n",
        "    #three semicircle ignition zone to induce detonation cells\n",
        "    distance_1 = jnp.sqrt((temp_y[None,:,:] - ignition_width)**2 + (temp_x[None,:,:] - ignition_height//4)**2)\n",
        "    distance_2 = jnp.sqrt((temp_y[None,:,:] - ignition_width)**2 + (temp_x[None,:,:] - (ignition_height//4)*2)**2)\n",
        "    distance_3 = jnp.sqrt((temp_y[None,:,:] - ignition_width)**2 + (temp_x[None,:,:] - (ignition_height//4)*3)**2)\n",
        "    mask = (distance_1 <= radius) | (distance_2 <= radius) | (distance_3 <= radius)\n",
        "    T_init = T_init.at[mask].set(Tignition)\n",
        "    P_init = P_init.at[mask].set(Pignition)\n",
        "    #get relevant thermo properties from tempreature and species mass fractions\n",
        "    _,gamma_init,h_init,R_init,_ = thermo_model.get_thermo(T_init,Y_init)\n",
        "\n",
        "    rho_init = P_init/(R_init*T_init)\n",
        "    E_init = rho_init*h_init - P_init\n",
        "    rhou_init = jnp.zeros((1,nx,ny))\n",
        "    rhov_init = jnp.zeros((1,nx,ny))\n",
        "\n",
        "    #concatenate the conservative variables U, and thermo variables aux(gamma,T)\n",
        "    U_init = jnp.concatenate([rho_init,rhou_init,rhov_init,E_init,rho_init*Y_init],axis=0)\n",
        "    aux_init = jnp.concatenate([gamma_init,T_init],axis=0)\n",
        "    return U_init, aux_init\n",
        "\n",
        "\n",
        "U, aux = initial_conditions()\n",
        "plt.figure(figsize=(12, 3))\n",
        "x = jnp.linspace(0, Lx, nx)\n",
        "y = jnp.linspace(0, Ly, ny)\n",
        "X, Y = jnp.meshgrid(x, y, indexing='ij')\n",
        "plt.contourf(X, Y, aux[-1], levels=50, cmap='viridis')"
      ],
      "metadata": {
        "id": "39hLp-3TTfgI"
      },
      "execution_count": null,
      "outputs": []
    },
    {
      "cell_type": "markdown",
      "source": [
        "# Main loop of time advance"
      ],
      "metadata": {
        "id": "SZ50XWe6OhiH"
      }
    },
    {
      "cell_type": "code",
      "source": [
        "U_final, aux_final, t_final = Simulator.run(U,aux)"
      ],
      "metadata": {
        "id": "_MW3SP4L9MF6"
      },
      "execution_count": null,
      "outputs": []
    },
    {
      "cell_type": "markdown",
      "source": [
        "# Postprocess"
      ],
      "metadata": {
        "id": "CG_TKsnqNZum"
      }
    },
    {
      "cell_type": "code",
      "source": [
        "#results should be loaded after concatenate the decomposed grid\n",
        "Simulator.saver.collect()\n",
        "\n",
        "#after collect, the results are presented in regular grid (instead of decomposed grid)\n",
        "time, state_dict = Simulator.saver.load('save_step1')\n",
        "T = state_dict['tempreature']"
      ],
      "metadata": {
        "id": "cabFZvetNb15"
      },
      "execution_count": null,
      "outputs": []
    },
    {
      "cell_type": "code",
      "source": [
        "plt.figure(figsize=(12, 3))\n",
        "plt.contourf(X, Y, T, levels=50, cmap='viridis')\n",
        "plt.xlabel('x')\n",
        "plt.ylabel('y')\n",
        "plt.ylim(0,Ly)\n",
        "plt.colorbar(label='Temperature (K)')\n",
        "plt.tight_layout()\n",
        "plt.axis('equal')\n",
        "plt.show()"
      ],
      "metadata": {
        "id": "K9P7TeE8OK5O"
      },
      "execution_count": null,
      "outputs": []
    }
  ]
}
