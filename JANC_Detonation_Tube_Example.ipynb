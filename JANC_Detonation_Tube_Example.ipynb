{
  "nbformat": 4,
  "nbformat_minor": 0,
  "metadata": {
    "colab": {
      "provenance": [],
      "machine_shape": "hm",
      "gpuType": "A100"
    },
    "kernelspec": {
      "name": "python3",
      "display_name": "Python 3"
    },
    "language_info": {
      "name": "python"
    },
    "accelerator": "GPU",
    "widgets": {
      "application/vnd.jupyter.widget-state+json": {
        "ccaeccb582b14c47956b2a2d10297046": {
          "model_module": "@jupyter-widgets/controls",
          "model_name": "HBoxModel",
          "model_module_version": "1.5.0",
          "state": {
            "_dom_classes": [],
            "_model_module": "@jupyter-widgets/controls",
            "_model_module_version": "1.5.0",
            "_model_name": "HBoxModel",
            "_view_count": null,
            "_view_module": "@jupyter-widgets/controls",
            "_view_module_version": "1.5.0",
            "_view_name": "HBoxView",
            "box_style": "",
            "children": [
              "IPY_MODEL_9f2bbb50b6a2487b965ee0e9e5ac62f0",
              "IPY_MODEL_da16cb32b60946b89cb19631f5817232",
              "IPY_MODEL_4be30798dd3f46149a1d3d68d7fb11ff"
            ],
            "layout": "IPY_MODEL_f099a535c748409393d69b662a075b53"
          }
        },
        "9f2bbb50b6a2487b965ee0e9e5ac62f0": {
          "model_module": "@jupyter-widgets/controls",
          "model_name": "HTMLModel",
          "model_module_version": "1.5.0",
          "state": {
            "_dom_classes": [],
            "_model_module": "@jupyter-widgets/controls",
            "_model_module_version": "1.5.0",
            "_model_name": "HTMLModel",
            "_view_count": null,
            "_view_module": "@jupyter-widgets/controls",
            "_view_module_version": "1.5.0",
            "_view_name": "HTMLView",
            "description": "",
            "description_tooltip": null,
            "layout": "IPY_MODEL_498f0c77c4094a70b2e55fa594397331",
            "placeholder": "​",
            "style": "IPY_MODEL_f4eb8d1a56bc40848df22a0173f996ac",
            "value": "计算进度: 100%"
          }
        },
        "da16cb32b60946b89cb19631f5817232": {
          "model_module": "@jupyter-widgets/controls",
          "model_name": "FloatProgressModel",
          "model_module_version": "1.5.0",
          "state": {
            "_dom_classes": [],
            "_model_module": "@jupyter-widgets/controls",
            "_model_module_version": "1.5.0",
            "_model_name": "FloatProgressModel",
            "_view_count": null,
            "_view_module": "@jupyter-widgets/controls",
            "_view_module_version": "1.5.0",
            "_view_name": "ProgressView",
            "bar_style": "success",
            "description": "",
            "description_tooltip": null,
            "layout": "IPY_MODEL_b26ea352ba154fa0b796d934cc97ed0a",
            "max": 20000,
            "min": 0,
            "orientation": "horizontal",
            "style": "IPY_MODEL_1208171f1948412ba30cc933d2b4a660",
            "value": 20000
          }
        },
        "4be30798dd3f46149a1d3d68d7fb11ff": {
          "model_module": "@jupyter-widgets/controls",
          "model_name": "HTMLModel",
          "model_module_version": "1.5.0",
          "state": {
            "_dom_classes": [],
            "_model_module": "@jupyter-widgets/controls",
            "_model_module_version": "1.5.0",
            "_model_name": "HTMLModel",
            "_view_count": null,
            "_view_module": "@jupyter-widgets/controls",
            "_view_module_version": "1.5.0",
            "_view_name": "HTMLView",
            "description": "",
            "description_tooltip": null,
            "layout": "IPY_MODEL_1e45b37ad3104a128e3f41f8b0a53fb7",
            "placeholder": "​",
            "style": "IPY_MODEL_affa0a2b7b484b6a95bb1138c6060750",
            "value": " 20000/20000 [1:06:09&lt;00:00,  4.99step/s]"
          }
        },
        "f099a535c748409393d69b662a075b53": {
          "model_module": "@jupyter-widgets/base",
          "model_name": "LayoutModel",
          "model_module_version": "1.2.0",
          "state": {
            "_model_module": "@jupyter-widgets/base",
            "_model_module_version": "1.2.0",
            "_model_name": "LayoutModel",
            "_view_count": null,
            "_view_module": "@jupyter-widgets/base",
            "_view_module_version": "1.2.0",
            "_view_name": "LayoutView",
            "align_content": null,
            "align_items": null,
            "align_self": null,
            "border": null,
            "bottom": null,
            "display": null,
            "flex": null,
            "flex_flow": null,
            "grid_area": null,
            "grid_auto_columns": null,
            "grid_auto_flow": null,
            "grid_auto_rows": null,
            "grid_column": null,
            "grid_gap": null,
            "grid_row": null,
            "grid_template_areas": null,
            "grid_template_columns": null,
            "grid_template_rows": null,
            "height": null,
            "justify_content": null,
            "justify_items": null,
            "left": null,
            "margin": null,
            "max_height": null,
            "max_width": null,
            "min_height": null,
            "min_width": null,
            "object_fit": null,
            "object_position": null,
            "order": null,
            "overflow": null,
            "overflow_x": null,
            "overflow_y": null,
            "padding": null,
            "right": null,
            "top": null,
            "visibility": null,
            "width": null
          }
        },
        "498f0c77c4094a70b2e55fa594397331": {
          "model_module": "@jupyter-widgets/base",
          "model_name": "LayoutModel",
          "model_module_version": "1.2.0",
          "state": {
            "_model_module": "@jupyter-widgets/base",
            "_model_module_version": "1.2.0",
            "_model_name": "LayoutModel",
            "_view_count": null,
            "_view_module": "@jupyter-widgets/base",
            "_view_module_version": "1.2.0",
            "_view_name": "LayoutView",
            "align_content": null,
            "align_items": null,
            "align_self": null,
            "border": null,
            "bottom": null,
            "display": null,
            "flex": null,
            "flex_flow": null,
            "grid_area": null,
            "grid_auto_columns": null,
            "grid_auto_flow": null,
            "grid_auto_rows": null,
            "grid_column": null,
            "grid_gap": null,
            "grid_row": null,
            "grid_template_areas": null,
            "grid_template_columns": null,
            "grid_template_rows": null,
            "height": null,
            "justify_content": null,
            "justify_items": null,
            "left": null,
            "margin": null,
            "max_height": null,
            "max_width": null,
            "min_height": null,
            "min_width": null,
            "object_fit": null,
            "object_position": null,
            "order": null,
            "overflow": null,
            "overflow_x": null,
            "overflow_y": null,
            "padding": null,
            "right": null,
            "top": null,
            "visibility": null,
            "width": null
          }
        },
        "f4eb8d1a56bc40848df22a0173f996ac": {
          "model_module": "@jupyter-widgets/controls",
          "model_name": "DescriptionStyleModel",
          "model_module_version": "1.5.0",
          "state": {
            "_model_module": "@jupyter-widgets/controls",
            "_model_module_version": "1.5.0",
            "_model_name": "DescriptionStyleModel",
            "_view_count": null,
            "_view_module": "@jupyter-widgets/base",
            "_view_module_version": "1.2.0",
            "_view_name": "StyleView",
            "description_width": ""
          }
        },
        "b26ea352ba154fa0b796d934cc97ed0a": {
          "model_module": "@jupyter-widgets/base",
          "model_name": "LayoutModel",
          "model_module_version": "1.2.0",
          "state": {
            "_model_module": "@jupyter-widgets/base",
            "_model_module_version": "1.2.0",
            "_model_name": "LayoutModel",
            "_view_count": null,
            "_view_module": "@jupyter-widgets/base",
            "_view_module_version": "1.2.0",
            "_view_name": "LayoutView",
            "align_content": null,
            "align_items": null,
            "align_self": null,
            "border": null,
            "bottom": null,
            "display": null,
            "flex": null,
            "flex_flow": null,
            "grid_area": null,
            "grid_auto_columns": null,
            "grid_auto_flow": null,
            "grid_auto_rows": null,
            "grid_column": null,
            "grid_gap": null,
            "grid_row": null,
            "grid_template_areas": null,
            "grid_template_columns": null,
            "grid_template_rows": null,
            "height": null,
            "justify_content": null,
            "justify_items": null,
            "left": null,
            "margin": null,
            "max_height": null,
            "max_width": null,
            "min_height": null,
            "min_width": null,
            "object_fit": null,
            "object_position": null,
            "order": null,
            "overflow": null,
            "overflow_x": null,
            "overflow_y": null,
            "padding": null,
            "right": null,
            "top": null,
            "visibility": null,
            "width": null
          }
        },
        "1208171f1948412ba30cc933d2b4a660": {
          "model_module": "@jupyter-widgets/controls",
          "model_name": "ProgressStyleModel",
          "model_module_version": "1.5.0",
          "state": {
            "_model_module": "@jupyter-widgets/controls",
            "_model_module_version": "1.5.0",
            "_model_name": "ProgressStyleModel",
            "_view_count": null,
            "_view_module": "@jupyter-widgets/base",
            "_view_module_version": "1.2.0",
            "_view_name": "StyleView",
            "bar_color": null,
            "description_width": ""
          }
        },
        "1e45b37ad3104a128e3f41f8b0a53fb7": {
          "model_module": "@jupyter-widgets/base",
          "model_name": "LayoutModel",
          "model_module_version": "1.2.0",
          "state": {
            "_model_module": "@jupyter-widgets/base",
            "_model_module_version": "1.2.0",
            "_model_name": "LayoutModel",
            "_view_count": null,
            "_view_module": "@jupyter-widgets/base",
            "_view_module_version": "1.2.0",
            "_view_name": "LayoutView",
            "align_content": null,
            "align_items": null,
            "align_self": null,
            "border": null,
            "bottom": null,
            "display": null,
            "flex": null,
            "flex_flow": null,
            "grid_area": null,
            "grid_auto_columns": null,
            "grid_auto_flow": null,
            "grid_auto_rows": null,
            "grid_column": null,
            "grid_gap": null,
            "grid_row": null,
            "grid_template_areas": null,
            "grid_template_columns": null,
            "grid_template_rows": null,
            "height": null,
            "justify_content": null,
            "justify_items": null,
            "left": null,
            "margin": null,
            "max_height": null,
            "max_width": null,
            "min_height": null,
            "min_width": null,
            "object_fit": null,
            "object_position": null,
            "order": null,
            "overflow": null,
            "overflow_x": null,
            "overflow_y": null,
            "padding": null,
            "right": null,
            "top": null,
            "visibility": null,
            "width": null
          }
        },
        "affa0a2b7b484b6a95bb1138c6060750": {
          "model_module": "@jupyter-widgets/controls",
          "model_name": "DescriptionStyleModel",
          "model_module_version": "1.5.0",
          "state": {
            "_model_module": "@jupyter-widgets/controls",
            "_model_module_version": "1.5.0",
            "_model_name": "DescriptionStyleModel",
            "_view_count": null,
            "_view_module": "@jupyter-widgets/base",
            "_view_module_version": "1.2.0",
            "_view_name": "StyleView",
            "description_width": ""
          }
        }
      }
    }
  },
  "cells": [
    {
      "cell_type": "markdown",
      "source": [
        "# 基础环境准备"
      ],
      "metadata": {
        "id": "1GjWrTaIj1XX"
      }
    },
    {
      "cell_type": "code",
      "source": [
        "!pip install cantera\n",
        "from nondim import x0, P0, T0, t0\n",
        "import janc.thermo as thermo\n",
        "import janc.boundary as boundary\n",
        "import janc.aux_func as aux_func\n",
        "import janc.solver as solver\n",
        "import cantera as ct\n",
        "import jax\n",
        "import jax.numpy as jnp\n",
        "import numpy as np\n",
        "import matplotlib.pyplot as plt\n",
        "import scipy.io as sio\n",
        "from tqdm.auto import tqdm\n",
        "\n",
        "# 设置JAX使用GPU\n",
        "jax.config.update(\"jax_enable_x64\", True)\n",
        "jax.config.update('jax_platform_name', 'gpu')"
      ],
      "metadata": {
        "colab": {
          "base_uri": "https://localhost:8080/"
        },
        "id": "_koEahVKtbzx",
        "outputId": "6a49ee3a-4bf0-4f65-a94e-1ca6971e2998"
      },
      "execution_count": null,
      "outputs": [
        {
          "output_type": "stream",
          "name": "stdout",
          "text": [
            "Requirement already satisfied: cantera in /usr/local/lib/python3.11/dist-packages (3.1.0)\n",
            "Requirement already satisfied: numpy<3,>=1.12.0 in /usr/local/lib/python3.11/dist-packages (from cantera) (2.0.2)\n",
            "Requirement already satisfied: ruamel.yaml>=0.15.34 in /usr/local/lib/python3.11/dist-packages (from cantera) (0.18.10)\n",
            "Requirement already satisfied: ruamel.yaml.clib>=0.2.7 in /usr/local/lib/python3.11/dist-packages (from ruamel.yaml>=0.15.34->cantera) (0.2.12)\n"
          ]
        }
      ]
    },
    {
      "cell_type": "markdown",
      "source": [
        "# 边界条件和自定义源项设置"
      ],
      "metadata": {
        "id": "cEZESjSgkG04"
      }
    },
    {
      "cell_type": "code",
      "source": [
        "Lx = 0.05/x0\n",
        "Ly = 0.0125/x0\n",
        "\n",
        "nx = 4000\n",
        "ny = 1000\n"
      ],
      "metadata": {
        "id": "U3DAoEIRkIeY"
      },
      "execution_count": null,
      "outputs": []
    },
    {
      "cell_type": "code",
      "source": [
        "def boundary_conditions(U,aux):\n",
        "    # 左右虚网格镜像反射（无滑移）\n",
        "    U = jnp.concatenate([U,aux],axis=0)\n",
        "    left_ghost = jnp.concatenate([U[:,0:1,:],U[:,0:1,:],U[:,0:1,:]],axis=1)\n",
        "    left_ghost = left_ghost.at[1].multiply(-1)  # 速度反向\n",
        "\n",
        "    right_ghost = jnp.concatenate([U[:,-1:,:],U[:,-1:,:],U[:,-1:,:]],axis=1)\n",
        "    right_ghost = right_ghost.at[1].multiply(-1)\n",
        "\n",
        "    U_with_ghost = jnp.concatenate([left_ghost, U, right_ghost], axis=1)\n",
        "\n",
        "    # 上下虚网格镜像反射（无滑移）\n",
        "    lower_ghost = jnp.concatenate([U_with_ghost[:,:,0:1],U_with_ghost[:,:,0:1],U_with_ghost[:,:,0:1]],axis=2)\n",
        "    lower_ghost = lower_ghost.at[2].multiply(-1)  # v 反向\n",
        "\n",
        "    upper_ghost = jnp.concatenate([U_with_ghost[:,:,-1:],U_with_ghost[:,:,-1:],U_with_ghost[:,:,-1:]],axis=2)\n",
        "    upper_ghost = upper_ghost.at[2].multiply(-1)\n",
        "\n",
        "    U_with_ghost = jnp.concatenate([lower_ghost, U_with_ghost, upper_ghost], axis=2)\n",
        "\n",
        "    return U_with_ghost[0:-2],U_with_ghost[-2:]"
      ],
      "metadata": {
        "id": "Op6tFUBiDVPs"
      },
      "execution_count": null,
      "outputs": []
    },
    {
      "cell_type": "markdown",
      "source": [
        "# 计算"
      ],
      "metadata": {
        "id": "QozMaGNh9veP"
      }
    },
    {
      "cell_type": "code",
      "source": [
        "\n",
        "grid_set = {'Lx':Lx,'Ly':Ly,'nx':nx,'ny':ny}\n",
        "\n",
        "thermo_set = {'is_detailed_chemistry':True,\n",
        "          'chemistry_mechanism_diretory':'chem.txt',\n",
        "          'thermo_model':'nasa7',\n",
        "          'nasa7_mech':'gri30.yaml'}\n",
        "\n",
        "boundary_set = {'boundary_conditions':boundary_conditions}\n",
        "source_set = {'self_defined_source_terms':None}"
      ],
      "metadata": {
        "id": "MnExYIkRZEdD"
      },
      "execution_count": null,
      "outputs": []
    },
    {
      "cell_type": "code",
      "source": [
        "#在完成边界和源项设置后，就可以引入求解器\n",
        "time_step, _, _ = solver.set_solver(thermo_set,boundary_set,source_set,'base')"
      ],
      "metadata": {
        "id": "OO0NbrgPhsHT"
      },
      "execution_count": null,
      "outputs": []
    },
    {
      "cell_type": "code",
      "source": [
        "ratio = 1.0\n",
        "yH2inj = (ratio/8*0.232)/(1 + ratio/8*0.232)\n",
        "yO2inj = 0.232/(1 + ratio/8*0.232)\n",
        "\n",
        "def initial_conditions(ignition_width,ignition_height):\n",
        "    Penv = 1.0*101325/P0; Tenv = 300/T0; yH2env = 0.028; yO2env = 0.226; # 用于爆震管仿真工况【初始流场条件】\n",
        "    # Penv = 1*101325/P0; Tenv = 300/T0; yH2env = 0; yO2env = 0.226; # 用于二维RDE仿真工况【初始流场条件】\n",
        "    Pignition = 75*101325/P0; Tignition = 3500/T0; Tfill = T0/T0; # 用于二维RDE工况【点火区域】【点火温度可以试着适当放小一点】\n",
        "    Yenv = jnp.concatenate([jnp.array([yH2env,yO2env]),1e-20*jnp.ones(8-2)])\n",
        "    Yfill = jnp.concatenate([jnp.array([yH2inj,yO2inj]),1e-20*jnp.ones(8-2)])\n",
        "    _,gamma_env,h_env,Renv,_ = thermo.get_thermo(jnp.array([[[Tenv]]]),jnp.expand_dims(Yenv,(1,2)))\n",
        "    _,gamma_ignition,h_ignition,_,_ = thermo.get_thermo(jnp.array([[[Tignition]]]),jnp.expand_dims(Yfill,(1,2)))\n",
        "    _,gamma_fill,h_fill,Rfill,_ = thermo.get_thermo(jnp.array([[[Tfill]]]),jnp.expand_dims(Yfill,(1,2)))\n",
        "\n",
        "    gamma_env = gamma_env.squeeze()\n",
        "    h_env = h_env.squeeze()\n",
        "    Renv = Renv.squeeze()\n",
        "    gamma_ignition = gamma_ignition.squeeze()\n",
        "    h_ignition = h_ignition.squeeze()\n",
        "    gamma_fill = gamma_fill.squeeze()\n",
        "    h_fill = h_fill.squeeze()\n",
        "    Rfill = Rfill.squeeze()\n",
        "\n",
        "    rho_init = Penv/(Renv*Tenv)*jnp.ones((nx,ny))\n",
        "    rhou_init = jnp.zeros((nx,ny))\n",
        "    rhov_init = jnp.zeros((nx,ny))\n",
        "    E_init = (Penv/(Renv*Tenv)*h_env - Penv)*jnp.ones((nx,ny))\n",
        "    T_init = (Tenv)*jnp.ones((nx,ny))\n",
        "    gamma_init = (gamma_env)*jnp.ones((nx,ny))\n",
        "    rhoY_init = jnp.expand_dims(Penv/(Renv*Tenv)*Yenv,(1,2))*jnp.ones((8,nx,ny))\n",
        "\n",
        "\n",
        "    div = 2\n",
        "    rho_init = rho_init.at[0:ignition_width,0:ignition_height].set(Pignition/(Rfill*Tignition))\n",
        "    E_init = E_init.at[0:ignition_width,0:ignition_height].set(Pignition/(Rfill*Tignition)*h_ignition - Pignition)\n",
        "    T_init = T_init.at[0:ignition_width,0:ignition_height].set(Tignition)\n",
        "    gamma_init = gamma_init.at[0:ignition_width,0:ignition_height].set(gamma_ignition)\n",
        "    value = jnp.expand_dims(rho_init[0:ignition_width,0:ignition_height],0)*jnp.tile(jnp.expand_dims(Yfill,(1,2)),(1,ignition_width,ignition_height))\n",
        "    rhoY_init = rhoY_init.at[:,0:ignition_width,0:ignition_height].set(value)\n",
        "\n",
        "    # 适用于爆震管仿真：增加局部爆点诱导胞格\n",
        "    temp_x = jnp.linspace(0, nx, nx)\n",
        "    temp_y = jnp.linspace(0, ny, ny)\n",
        "    temp_x, temp_y = jnp.meshgrid(temp_y, temp_x)\n",
        "    radius = ignition_width//2\n",
        "\n",
        "    distance_1 = jnp.sqrt((temp_y - ignition_width)**2 + (temp_x - ignition_height//4)**2)\n",
        "    distance_2 = jnp.sqrt((temp_y - ignition_width)**2 + (temp_x - ignition_height//4)**2)\n",
        "    distance_3 = jnp.sqrt((temp_y - ignition_width)**2 + (temp_x - ignition_height//2)**2)\n",
        "    distance_4 = jnp.sqrt((temp_y - ignition_width)**2 + (temp_x - (ignition_height//4)*3)**2)\n",
        "    distance_5 = jnp.sqrt((temp_y - ignition_width)**2 + (temp_x - (ignition_height//4)*3)**2)\n",
        "\n",
        "    mask = (distance_1 <= radius) | (distance_2 <= radius) | (distance_3 <= radius) | (distance_4 <= radius) | (distance_5 <= radius)\n",
        "    rho_init = rho_init.at[mask].set(Pignition/(Rfill*Tignition))\n",
        "    E_init = E_init.at[mask].set(Pignition/(Rfill*Tignition)*h_ignition - Pignition)\n",
        "    T_init = T_init.at[mask].set(Tignition)\n",
        "    gamma_init = gamma_init.at[mask].set(gamma_ignition)\n",
        "\n",
        "    new_rhoY = rho_init * Yfill[:, None, None]  # 广播乘法\n",
        "    rhoY_init = jnp.where(mask[None, :, :], new_rhoY, rhoY_init)\n",
        "\n",
        "    # 遍历所有网格点，修改满足 mask 条件的点的组分信息 【这段代码写的不好，没有优化，执行时间太长了】\n",
        "    #for i in range(ignition_width+radius):\n",
        "    #  for j in range(ny):\n",
        "    #    if mask[i, j]:  # 如果当前网格点满足 mask 条件\n",
        "    #      rhoY_init[:, i, j] = rho_init[i,j] * Yfill  # 将组分信息设置为 Yfill，并乘以当前网格点的密度\n",
        "\n",
        "    rho_init = jnp.expand_dims(rho_init,0)\n",
        "    rhou_init = jnp.expand_dims(rhou_init,0)\n",
        "    rhov_init = jnp.expand_dims(rhov_init,0)\n",
        "    E_init = jnp.expand_dims(E_init,0)\n",
        "    state_init = jnp.concatenate([rho_init,rhou_init,rhov_init,E_init,rhoY_init],axis=0)\n",
        "    return jnp.concatenate([jnp.array(state_init),jnp.array([gamma_init]),jnp.array([T_init])],axis=0)\n",
        "\n",
        "\n",
        "ignition_width = 80*2;ignition_height = 500*2\n",
        "U = initial_conditions(ignition_width,ignition_height)\n",
        "plt.figure(figsize=(10, 4))\n",
        "x = jnp.linspace(0, Lx, nx)\n",
        "y = jnp.linspace(0, Ly, ny)\n",
        "X, Y = jnp.meshgrid(x, y, indexing='ij')\n",
        "plt.contourf(X, Y, U[-1], levels=50, cmap='viridis')"
      ],
      "metadata": {
        "colab": {
          "base_uri": "https://localhost:8080/",
          "height": 391
        },
        "id": "iif5sUUAlWlr",
        "outputId": "42e38009-3921-4795-946e-4c998b4762e5"
      },
      "execution_count": null,
      "outputs": [
        {
          "output_type": "execute_result",
          "data": {
            "text/plain": [
              "<matplotlib.contour.QuadContourSet at 0x7e9e283798d0>"
            ]
          },
          "metadata": {},
          "execution_count": 22
        },
        {
          "output_type": "display_data",
          "data": {
            "text/plain": [
              "<Figure size 1000x400 with 1 Axes>"
            ],
            "image/png": "[encoded data removed]"
          },
          "metadata": {}
        }
      ]
    },
    {
      "cell_type": "code",
      "source": [
        "nt = 20000\n",
        "saved_T = []\n",
        "for step in tqdm(range(nt), desc=\"计算进度\", unit=\"step\"):\n",
        "    U = time_step(U,Lx/nx,Ly/ny,5e-10/t0)\n",
        "    if (step+1)%100 == 0:\n",
        "      saved_T.append(U[-1])"
      ],
      "metadata": {
        "colab": {
          "base_uri": "https://localhost:8080/",
          "height": 49,
          "referenced_widgets": [
            "ccaeccb582b14c47956b2a2d10297046",
            "9f2bbb50b6a2487b965ee0e9e5ac62f0",
            "da16cb32b60946b89cb19631f5817232",
            "4be30798dd3f46149a1d3d68d7fb11ff",
            "f099a535c748409393d69b662a075b53",
            "498f0c77c4094a70b2e55fa594397331",
            "f4eb8d1a56bc40848df22a0173f996ac",
            "b26ea352ba154fa0b796d934cc97ed0a",
            "1208171f1948412ba30cc933d2b4a660",
            "1e45b37ad3104a128e3f41f8b0a53fb7",
            "affa0a2b7b484b6a95bb1138c6060750"
          ]
        },
        "id": "0egmsIcg93n1",
        "outputId": "38c9e56d-95f7-4cb1-a9e0-c4e62f8ef228"
      },
      "execution_count": null,
      "outputs": [
        {
          "output_type": "display_data",
          "data": {
            "text/plain": [
              "计算进度:   0%|          | 0/20000 [00:00<?, ?step/s]"
            ],
            "application/vnd.jupyter.widget-view+json": {
              "version_major": 2,
              "version_minor": 0,
              "model_id": "ccaeccb582b14c47956b2a2d10297046"
            }
          },
          "metadata": {}
        }
      ]
    },
    {
      "cell_type": "code",
      "source": [
        "plt.figure(figsize=(10, 4))\n",
        "plt.contourf(X, Y, saved_T[-1], levels=50, cmap='viridis')\n",
        "#plt.clim(0, 4)\n",
        "plt.xlabel('x')\n",
        "plt.ylabel('y')\n",
        "plt.colorbar()\n",
        "plt.tight_layout()\n",
        "plt.axis('equal')\n",
        "plt.show()"
      ],
      "metadata": {
        "colab": {
          "base_uri": "https://localhost:8080/",
          "height": 401
        },
        "id": "tRDCWBe5wcXO",
        "outputId": "0f05ef1d-413c-46e6-ecb6-dc649a2779f1"
      },
      "execution_count": null,
      "outputs": [
        {
          "output_type": "display_data",
          "data": {
            "text/plain": [
              "<Figure size 1000x400 with 2 Axes>"
            ],
            "image/png": "[encoded data removed]"
          },
          "metadata": {}
        }
      ]
    },
    {
      "cell_type": "code",
      "source": [
        "T_np = np.array(saved_T)"
      ],
      "metadata": {
        "id": "PHvMRprW9PkS"
      },
      "execution_count": null,
      "outputs": []
    },
    {
      "cell_type": "code",
      "source": [
        "import numpy as np\n",
        "import matplotlib.pyplot as plt\n",
        "from matplotlib.animation import FuncAnimation\n",
        "\n",
        "# 假设你的数据形状为 (nt, nx, ny)，这里生成示例数据\n",
        "nt, nx, ny = 200, 4000, 1000\n",
        "data = 300*T_np\n",
        "\n",
        "\n",
        "\n",
        "# 初始化图形\n",
        "fig, ax = plt.subplots(figsize=(12, 3))\n",
        "ax.set_title(\"Frame 0\")\n",
        "\n",
        "# 首帧绘图（注意转置数据维度）\n",
        "levels = np.linspace(200.0, 5000.0, 50)\n",
        "\n",
        "contour = ax.contourf(X*x0, Y*x0, data[0], levels=levels, cmap='viridis', vmin=200.0, vmax=5000.0)\n",
        "cbar = fig.colorbar(contour)\n",
        "cbar.set_label('T(K)')\n",
        "ax.set_xlabel('x(m)')\n",
        "ax.set_ylabel('y(m)')\n",
        "\n",
        "def update(frame):\n",
        "    \"\"\"动画更新函数\"\"\"\n",
        "    # 清除旧的图形元素（优化版）\n",
        "    for coll in ax.collections:  # 遍历所有图形集合\n",
        "        coll.remove()           # 安全移除元素\n",
        "    ax.contourf(X*x0, Y*x0, data[frame], levels=levels, cmap='viridis', vmin=200.0, vmax=5000.0)\n",
        "    time = frame*100/5.03/60\n",
        "    ax.set_title(f\"Computation Time (A100) t = {time:.2f}min\")\n",
        "    return ax.collections       # 返回当前所有图形集合\n",
        "\n",
        "# 创建动画对象\n",
        "anim = FuncAnimation(fig, update, frames=nt, interval=100)\n",
        "\n",
        "# 保存为GIF（需安装pillow库）\n",
        "anim.save(\"/content/drive/MyDrive/animation5.gif\", writer=\"pillow\", fps=24, dpi=100)\n",
        "\n",
        "print(\"GIF保存完成！\")"
      ],
      "metadata": {
        "colab": {
          "base_uri": "https://localhost:8080/"
        },
        "id": "nTUphq8m9cBu",
        "outputId": "ceaf46c5-3034-43fc-a625-0cbbf7b54d23"
      },
      "execution_count": null,
      "outputs": [
        {
          "output_type": "stream",
          "name": "stdout",
          "text": [
            "GIF保存完成！\n"
          ]
        },
        {
          "output_type": "display_data",
          "data": {
            "text/plain": [
              "<Figure size 1200x300 with 2 Axes>"
            ],
            "image/png": "[encoded data removed]"
          },
          "metadata": {}
        }
      ]
    }
  ]
}