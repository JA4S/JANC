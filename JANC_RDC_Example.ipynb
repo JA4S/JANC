{
  "nbformat": 4,
  "nbformat_minor": 0,
  "metadata": {
    "colab": {
      "provenance": [],
      "machine_shape": "hm",
      "gpuType": "A100",
      "mount_file_id": "14jfi9qv2F8Vm2iZuUekFEN-qVabbawly",
      "authorship_tag": "ABX9TyOdUp+QX4ys/wD/ZxHE6Pr8",
      "include_colab_link": true
    },
    "kernelspec": {
      "name": "python3",
      "display_name": "Python 3"
    },
    "language_info": {
      "name": "python"
    },
    "accelerator": "GPU",
    "widgets": {
      "application/vnd.jupyter.widget-state+json": {
        "f1ad0f2df2e44cd390c788bd2634892c": {
          "model_module": "@jupyter-widgets/controls",
          "model_name": "HBoxModel",
          "model_module_version": "1.5.0",
          "state": {
            "_dom_classes": [],
            "_model_module": "@jupyter-widgets/controls",
            "_model_module_version": "1.5.0",
            "_model_name": "HBoxModel",
            "_view_count": null,
            "_view_module": "@jupyter-widgets/controls",
            "_view_module_version": "1.5.0",
            "_view_name": "HBoxView",
            "box_style": "",
            "children": [
              "IPY_MODEL_12b4651f17e548dfb359d6db836cd701",
              "IPY_MODEL_dc5083f572404b059612434d51287689",
              "IPY_MODEL_6c2bd53004a94767bdc6fe45220fc1fc"
            ],
            "layout": "IPY_MODEL_51f7040e8d434873b67f230299a32e86"
          }
        },
        "12b4651f17e548dfb359d6db836cd701": {
          "model_module": "@jupyter-widgets/controls",
          "model_name": "HTMLModel",
          "model_module_version": "1.5.0",
          "state": {
            "_dom_classes": [],
            "_model_module": "@jupyter-widgets/controls",
            "_model_module_version": "1.5.0",
            "_model_name": "HTMLModel",
            "_view_count": null,
            "_view_module": "@jupyter-widgets/controls",
            "_view_module_version": "1.5.0",
            "_view_name": "HTMLView",
            "description": "",
            "description_tooltip": null,
            "layout": "IPY_MODEL_5dbc5852402c4c8698b4b80ade1eb9a9",
            "placeholder": "​",
            "style": "IPY_MODEL_a60446bdd28f4af59fcdd94ac488b366",
            "value": "progress: 100%"
          }
        },
        "dc5083f572404b059612434d51287689": {
          "model_module": "@jupyter-widgets/controls",
          "model_name": "FloatProgressModel",
          "model_module_version": "1.5.0",
          "state": {
            "_dom_classes": [],
            "_model_module": "@jupyter-widgets/controls",
            "_model_module_version": "1.5.0",
            "_model_name": "FloatProgressModel",
            "_view_count": null,
            "_view_module": "@jupyter-widgets/controls",
            "_view_module_version": "1.5.0",
            "_view_name": "ProgressView",
            "bar_style": "success",
            "description": "",
            "description_tooltip": null,
            "layout": "IPY_MODEL_4b28421616eb4b888b9506072a846c0c",
            "max": 40000,
            "min": 0,
            "orientation": "horizontal",
            "style": "IPY_MODEL_3b560400bb7d47859da39a98c5269c2a",
            "value": 40000
          }
        },
        "6c2bd53004a94767bdc6fe45220fc1fc": {
          "model_module": "@jupyter-widgets/controls",
          "model_name": "HTMLModel",
          "model_module_version": "1.5.0",
          "state": {
            "_dom_classes": [],
            "_model_module": "@jupyter-widgets/controls",
            "_model_module_version": "1.5.0",
            "_model_name": "HTMLModel",
            "_view_count": null,
            "_view_module": "@jupyter-widgets/controls",
            "_view_module_version": "1.5.0",
            "_view_name": "HTMLView",
            "description": "",
            "description_tooltip": null,
            "layout": "IPY_MODEL_3a26d9db85be416d8f00ac2215d6d930",
            "placeholder": "​",
            "style": "IPY_MODEL_7782f68f2b03422399492787cf25eeb4",
            "value": " 40000/40000 [50:38&lt;00:00, 13.24step/s]"
          }
        },
        "51f7040e8d434873b67f230299a32e86": {
          "model_module": "@jupyter-widgets/base",
          "model_name": "LayoutModel",
          "model_module_version": "1.2.0",
          "state": {
            "_model_module": "@jupyter-widgets/base",
            "_model_module_version": "1.2.0",
            "_model_name": "LayoutModel",
            "_view_count": null,
            "_view_module": "@jupyter-widgets/base",
            "_view_module_version": "1.2.0",
            "_view_name": "LayoutView",
            "align_content": null,
            "align_items": null,
            "align_self": null,
            "border": null,
            "bottom": null,
            "display": null,
            "flex": null,
            "flex_flow": null,
            "grid_area": null,
            "grid_auto_columns": null,
            "grid_auto_flow": null,
            "grid_auto_rows": null,
            "grid_column": null,
            "grid_gap": null,
            "grid_row": null,
            "grid_template_areas": null,
            "grid_template_columns": null,
            "grid_template_rows": null,
            "height": null,
            "justify_content": null,
            "justify_items": null,
            "left": null,
            "margin": null,
            "max_height": null,
            "max_width": null,
            "min_height": null,
            "min_width": null,
            "object_fit": null,
            "object_position": null,
            "order": null,
            "overflow": null,
            "overflow_x": null,
            "overflow_y": null,
            "padding": null,
            "right": null,
            "top": null,
            "visibility": null,
            "width": null
          }
        },
        "5dbc5852402c4c8698b4b80ade1eb9a9": {
          "model_module": "@jupyter-widgets/base",
          "model_name": "LayoutModel",
          "model_module_version": "1.2.0",
          "state": {
            "_model_module": "@jupyter-widgets/base",
            "_model_module_version": "1.2.0",
            "_model_name": "LayoutModel",
            "_view_count": null,
            "_view_module": "@jupyter-widgets/base",
            "_view_module_version": "1.2.0",
            "_view_name": "LayoutView",
            "align_content": null,
            "align_items": null,
            "align_self": null,
            "border": null,
            "bottom": null,
            "display": null,
            "flex": null,
            "flex_flow": null,
            "grid_area": null,
            "grid_auto_columns": null,
            "grid_auto_flow": null,
            "grid_auto_rows": null,
            "grid_column": null,
            "grid_gap": null,
            "grid_row": null,
            "grid_template_areas": null,
            "grid_template_columns": null,
            "grid_template_rows": null,
            "height": null,
            "justify_content": null,
            "justify_items": null,
            "left": null,
            "margin": null,
            "max_height": null,
            "max_width": null,
            "min_height": null,
            "min_width": null,
            "object_fit": null,
            "object_position": null,
            "order": null,
            "overflow": null,
            "overflow_x": null,
            "overflow_y": null,
            "padding": null,
            "right": null,
            "top": null,
            "visibility": null,
            "width": null
          }
        },
        "a60446bdd28f4af59fcdd94ac488b366": {
          "model_module": "@jupyter-widgets/controls",
          "model_name": "DescriptionStyleModel",
          "model_module_version": "1.5.0",
          "state": {
            "_model_module": "@jupyter-widgets/controls",
            "_model_module_version": "1.5.0",
            "_model_name": "DescriptionStyleModel",
            "_view_count": null,
            "_view_module": "@jupyter-widgets/base",
            "_view_module_version": "1.2.0",
            "_view_name": "StyleView",
            "description_width": ""
          }
        },
        "4b28421616eb4b888b9506072a846c0c": {
          "model_module": "@jupyter-widgets/base",
          "model_name": "LayoutModel",
          "model_module_version": "1.2.0",
          "state": {
            "_model_module": "@jupyter-widgets/base",
            "_model_module_version": "1.2.0",
            "_model_name": "LayoutModel",
            "_view_count": null,
            "_view_module": "@jupyter-widgets/base",
            "_view_module_version": "1.2.0",
            "_view_name": "LayoutView",
            "align_content": null,
            "align_items": null,
            "align_self": null,
            "border": null,
            "bottom": null,
            "display": null,
            "flex": null,
            "flex_flow": null,
            "grid_area": null,
            "grid_auto_columns": null,
            "grid_auto_flow": null,
            "grid_auto_rows": null,
            "grid_column": null,
            "grid_gap": null,
            "grid_row": null,
            "grid_template_areas": null,
            "grid_template_columns": null,
            "grid_template_rows": null,
            "height": null,
            "justify_content": null,
            "justify_items": null,
            "left": null,
            "margin": null,
            "max_height": null,
            "max_width": null,
            "min_height": null,
            "min_width": null,
            "object_fit": null,
            "object_position": null,
            "order": null,
            "overflow": null,
            "overflow_x": null,
            "overflow_y": null,
            "padding": null,
            "right": null,
            "top": null,
            "visibility": null,
            "width": null
          }
        },
        "3b560400bb7d47859da39a98c5269c2a": {
          "model_module": "@jupyter-widgets/controls",
          "model_name": "ProgressStyleModel",
          "model_module_version": "1.5.0",
          "state": {
            "_model_module": "@jupyter-widgets/controls",
            "_model_module_version": "1.5.0",
            "_model_name": "ProgressStyleModel",
            "_view_count": null,
            "_view_module": "@jupyter-widgets/base",
            "_view_module_version": "1.2.0",
            "_view_name": "StyleView",
            "bar_color": null,
            "description_width": ""
          }
        },
        "3a26d9db85be416d8f00ac2215d6d930": {
          "model_module": "@jupyter-widgets/base",
          "model_name": "LayoutModel",
          "model_module_version": "1.2.0",
          "state": {
            "_model_module": "@jupyter-widgets/base",
            "_model_module_version": "1.2.0",
            "_model_name": "LayoutModel",
            "_view_count": null,
            "_view_module": "@jupyter-widgets/base",
            "_view_module_version": "1.2.0",
            "_view_name": "LayoutView",
            "align_content": null,
            "align_items": null,
            "align_self": null,
            "border": null,
            "bottom": null,
            "display": null,
            "flex": null,
            "flex_flow": null,
            "grid_area": null,
            "grid_auto_columns": null,
            "grid_auto_flow": null,
            "grid_auto_rows": null,
            "grid_column": null,
            "grid_gap": null,
            "grid_row": null,
            "grid_template_areas": null,
            "grid_template_columns": null,
            "grid_template_rows": null,
            "height": null,
            "justify_content": null,
            "justify_items": null,
            "left": null,
            "margin": null,
            "max_height": null,
            "max_width": null,
            "min_height": null,
            "min_width": null,
            "object_fit": null,
            "object_position": null,
            "order": null,
            "overflow": null,
            "overflow_x": null,
            "overflow_y": null,
            "padding": null,
            "right": null,
            "top": null,
            "visibility": null,
            "width": null
          }
        },
        "7782f68f2b03422399492787cf25eeb4": {
          "model_module": "@jupyter-widgets/controls",
          "model_name": "DescriptionStyleModel",
          "model_module_version": "1.5.0",
          "state": {
            "_model_module": "@jupyter-widgets/controls",
            "_model_module_version": "1.5.0",
            "_model_name": "DescriptionStyleModel",
            "_view_count": null,
            "_view_module": "@jupyter-widgets/base",
            "_view_module_version": "1.2.0",
            "_view_name": "StyleView",
            "description_width": ""
          }
        }
      }
    }
  },
  "cells": [
    {
      "cell_type": "markdown",
      "metadata": {
        "id": "view-in-github",
        "colab_type": "text"
      },
      "source": [
        "<a href=\"https://colab.research.google.com/github/JA4S/JANC/blob/main/JANC_RDC_Example.ipynb\" target=\"_parent\"><img src=\"https://colab.research.google.com/assets/colab-badge.svg\" alt=\"Open In Colab\"/></a>"
      ]
    },
    {
      "cell_type": "markdown",
      "source": [
        "# Basic Environment"
      ],
      "metadata": {
        "id": "1GjWrTaIj1XX"
      }
    },
    {
      "cell_type": "code",
      "source": [
        "!pip install cantera\n",
        "from nondim import x0, P0, T0, t0\n",
        "import janc.thermo as thermo\n",
        "import janc.boundary as boundary\n",
        "import janc.aux_func as aux_func\n",
        "import janc.solver as solver\n",
        "import cantera as ct\n",
        "import jax\n",
        "import jax.numpy as jnp\n",
        "import numpy as np\n",
        "import matplotlib.pyplot as plt\n",
        "import scipy.io as sio\n",
        "from tqdm.auto import tqdm\n",
        "\n",
        "# set JAX to use GPU\n",
        "jax.config.update(\"jax_enable_x64\", True)\n",
        "jax.config.update('jax_platform_name', 'gpu')"
      ],
      "metadata": {
        "colab": {
          "base_uri": "https://localhost:8080/"
        },
        "id": "_koEahVKtbzx",
        "outputId": "27482e82-9ae7-4631-a567-50f551d03664"
      },
      "execution_count": null,
      "outputs": [
        {
          "output_type": "stream",
          "name": "stdout",
          "text": [
            "Requirement already satisfied: cantera in /usr/local/lib/python3.11/dist-packages (3.1.0)\n",
            "Requirement already satisfied: numpy<3,>=1.12.0 in /usr/local/lib/python3.11/dist-packages (from cantera) (2.0.2)\n",
            "Requirement already satisfied: ruamel.yaml>=0.15.34 in /usr/local/lib/python3.11/dist-packages (from cantera) (0.18.10)\n",
            "Requirement already satisfied: ruamel.yaml.clib>=0.2.7 in /usr/local/lib/python3.11/dist-packages (from ruamel.yaml>=0.15.34->cantera) (0.2.12)\n"
          ]
        }
      ]
    },
    {
      "cell_type": "markdown",
      "source": [
        "# User-defined boundary conditions and source terms"
      ],
      "metadata": {
        "id": "cEZESjSgkG04"
      }
    },
    {
      "cell_type": "code",
      "source": [
        "Lx = 0.20/x0\n",
        "Ly = 0.08/x0\n",
        "\n",
        "nx = 2000\n",
        "ny = 800\n",
        "\n",
        "##inlet boundary\n",
        "#injection equivalence ratio\n",
        "ratio = 1.0\n",
        "yH2inj = (ratio/8*0.232)/(1 + ratio/8*0.232)\n",
        "yO2inj = 0.232/(1 + ratio/8*0.232)\n",
        "\n",
        "##outlet boundary\n",
        "#back pressure\n",
        "Pb = 101325/P0\n",
        "\n",
        "Yinj = jnp.concatenate([jnp.array([yH2inj,yO2inj]),1e-20*jnp.ones((8-2))],axis=0)\n",
        "Yinj_cor = jnp.expand_dims(Yinj,(1,2))\n",
        "Yinj_cor = jnp.tile(Yinj_cor,(1,nx+2*3,1))\n",
        "na = 8"
      ],
      "metadata": {
        "id": "U3DAoEIRkIeY"
      },
      "execution_count": null,
      "outputs": []
    },
    {
      "cell_type": "code",
      "source": [
        "def inj_model(p):\n",
        "    A1 = 1\n",
        "    A3 = 5\n",
        "    A2 = A3-A1\n",
        "    R = thermo.get_R(Yinj_cor)\n",
        "    gamma = 1.29\n",
        "    C0 = jnp.sqrt(gamma*R*1.0)\n",
        "\n",
        "    M = jnp.zeros_like(p)\n",
        "    P1 = 1.0*(1+(gamma-1)/2*M**2)**(-gamma/(gamma-1))\n",
        "    V1 = M*(1+(gamma-1)/2*M**2)**(-0.5)*C0\n",
        "    MFC = A1*1.0/jnp.sqrt(1.0)*jnp.sqrt(gamma/R)*M*(1+(gamma-1)/2*M**2)**(-(gamma+1)/2/(gamma-1))\n",
        "    A = 0.5\n",
        "    P3 = p\n",
        "    B = gamma/(gamma-1)*P3*A3/MFC\n",
        "    C = -gamma/(gamma-1)*R*1.0\n",
        "    V3 = (-B+jnp.sqrt(B**2-4*A*C))/(2*A)\n",
        "    P2 = (MFC*(V3-V1)-P1*A1+P3*A3)/A2\n",
        "\n",
        "    M1 = jnp.zeros_like(p)\n",
        "    M2 = jnp.ones_like(p)\n",
        "    p_cor = p\n",
        "\n",
        "    for i in range(20):\n",
        "        M = 0.5*(M1+M2)\n",
        "        P1 = 1.0*(1+(gamma-1)/2*M**2)**(-gamma/(gamma-1))\n",
        "        V1 = M*(1+(gamma-1)/2*M**2)**(-0.5)*C0\n",
        "        MFC = A1*1.0/jnp.sqrt(1.0)*jnp.sqrt(gamma/R)*M*(1+(gamma-1)/2*M**2)**(-(gamma+1)/2/(gamma-1))\n",
        "        A = 0.5\n",
        "        B = gamma/(gamma-1)*P3*A3/MFC\n",
        "        C = -gamma/(gamma-1)*R*1.0\n",
        "        V3 = (-B+jnp.sqrt(B**2-4*A*C))/(2*A)\n",
        "        P2 = (MFC*(V3-V1)-P1*A1+P3*A3)/A2\n",
        "\n",
        "        M2 = jax.lax.select(P2>=P1,M,M2)\n",
        "        M1 = jax.lax.select(P2<P1,M,M1)\n",
        "\n",
        "    rho_cor = MFC/V3/A3\n",
        "    v_cor = V3\n",
        "    T_cor = p_cor/(R*rho_cor)\n",
        "    _, gamma, h_cor, _, _ = thermo.get_thermo(T_cor,Yinj_cor)\n",
        "    return v_cor, T_cor, h_cor, gamma\n",
        "\n",
        "def boundary_conditions(U,aux):\n",
        "    na = Yinj_cor.shape[0]\n",
        "\n",
        "    U_periodic = jnp.concatenate([U[:,-4:-3,:],U[:,-3:-2,:],U[:,-2:-1,:],U,U[:,1:2,:],U[:,2:3,:],U[:,3:4,:]],axis=1)\n",
        "    aux_periodic = jnp.concatenate([aux[:,-4:-3,:],aux[:,-3:-2,:],aux[:,-2:-1,:],aux,aux[:,1:2,:],aux[:,2:3,:],aux[:,3:4,:]],axis=1)\n",
        "    state_periodic = U_periodic\n",
        "    gamma_periodic = aux_periodic[0:1,:,:]\n",
        "    T_periodic = aux_periodic[1:2,:,:]\n",
        "\n",
        "    state_out = state_periodic[:,:,-1:]\n",
        "    gamma_out = gamma_periodic[:,:,-1:]\n",
        "    T_out = T_periodic[:,:,-1:]\n",
        "    rho_out = state_out[0:1,:,:]\n",
        "    u_out = state_out[1:2,:,:]/rho_out\n",
        "    v_out = state_out[2:3,:,:]/rho_out\n",
        "    Y_out = state_out[4:,:,:]/rho_out\n",
        "    R_out = thermo.get_R(Y_out)\n",
        "    p_out = rho_out*(R_out*T_out)\n",
        "    a_out = jnp.sqrt(gamma_out*p_out/rho_out)\n",
        "    mask = (v_out/a_out < 1.0)\n",
        "    rho_cor_out = jax.lax.select(mask, Pb / (p_out / rho_out),rho_out)\n",
        "    p_cor_out = jax.lax.select(mask, Pb*jnp.ones_like(p_out),p_out)\n",
        "    T_cor_out = jax.lax.select(mask, p_cor_out/(rho_cor_out*R_out),T_out)\n",
        "    _, gamma_out, h_out, _,_ = thermo.get_thermo(T_cor_out,Y_out)\n",
        "    upper_bound_state = jnp.concatenate([rho_cor_out, rho_cor_out * u_out, rho_cor_out * v_out,\n",
        "                      rho_cor_out*h_out - p_cor_out + 0.5 * rho_cor_out * (u_out ** 2 + v_out ** 2),\n",
        "                      rho_cor_out * Y_out], axis=0)\n",
        "    aux_up = jnp.concatenate([gamma_out,T_cor_out],axis=0)\n",
        "\n",
        "    state_in = state_periodic[:,:,0:1]\n",
        "    gamma_in = gamma_periodic[:,:,0:1]##\n",
        "    T_in = T_periodic[:,:,0:1]\n",
        "    rho_in = state_in[0:1,:,:]\n",
        "    u_in = state_in[1:2,:,:]/rho_in\n",
        "    v_in = state_in[2:3,:,:]/rho_in\n",
        "    Y_in = state_in[4:,:,:]/rho_in\n",
        "    _, _, h_in, R_in,_ = thermo.get_thermo(T_in,Y_in)\n",
        "    p_in = rho_in*R_in*T_in\n",
        "\n",
        "    u_temp = jnp.zeros_like(u_in)\n",
        "    Y_temp = Yinj_cor\n",
        "    v_temp, T_temp, h_temp, gamma_temp = inj_model(p_in)\n",
        "    R_temp = thermo.get_R(Y_temp)\n",
        "    rho_temp = p_in/(R_temp*T_temp)\n",
        "\n",
        "    mask_in = (p_in >= 1.0)\n",
        "    rho_cor_in = jax.lax.select(mask_in,rho_in,rho_temp)\n",
        "    u_cor_in = jax.lax.select(mask_in,u_in,u_temp)\n",
        "    v_cor_in = jax.lax.select(mask_in,-v_in,v_temp)\n",
        "    T_cor_in = jax.lax.select(mask_in,T_in,T_temp)\n",
        "    p_cor_in = p_in\n",
        "    h_cor_in = jax.lax.select(mask_in,h_in,h_temp)\n",
        "    Y_cor_in = jax.lax.select(jnp.tile(mask_in,(na,1,1)),Y_in,Y_temp)\n",
        "    gamma_cor_in = jax.lax.select(mask_in,gamma_in,gamma_temp)\n",
        "\n",
        "    lower_bound_state = jnp.concatenate([rho_cor_in, rho_cor_in * u_cor_in, rho_cor_in * v_cor_in,\n",
        "                      rho_cor_in*h_cor_in - p_cor_in + 0.5 * rho_cor_in * (u_cor_in ** 2 + v_cor_in ** 2),\n",
        "                      rho_cor_in * Y_cor_in], axis=0)\n",
        "    aux_low = jnp.concatenate([gamma_cor_in,T_cor_in],axis=0)\n",
        "\n",
        "\n",
        "    U_with_ghost_cell = jnp.concatenate([lower_bound_state,lower_bound_state,lower_bound_state,U_periodic,\n",
        "                        upper_bound_state,upper_bound_state,upper_bound_state],axis=2)\n",
        "\n",
        "    aux_with_ghost_cell = jnp.concatenate([aux_low,aux_low,aux_low,aux_periodic,\n",
        "                        aux_up,aux_up,aux_up],axis=2)\n",
        "    return U_with_ghost_cell.astype(jnp.float32),aux_with_ghost_cell.astype(jnp.float32)\n",
        "    #return U_with_ghost_cell,aux_with_ghost_cell"
      ],
      "metadata": {
        "id": "Op6tFUBiDVPs"
      },
      "execution_count": null,
      "outputs": []
    },
    {
      "cell_type": "markdown",
      "source": [
        "# Calculations"
      ],
      "metadata": {
        "id": "QozMaGNh9veP"
      }
    },
    {
      "cell_type": "code",
      "source": [
        "\n",
        "grid_set = {'Lx':Lx,'Ly':Ly,'nx':nx,'ny':ny}\n",
        "\n",
        "thermo_set = {'is_detailed_chemistry':True,\n",
        "          'chemistry_mechanism_diretory':'chem.txt',\n",
        "          'thermo_model':'nasa7',\n",
        "          'nasa7_mech':'gri30.yaml'}\n",
        "\n",
        "boundary_set = {'boundary_conditions':boundary_conditions}\n",
        "source_set = {'self_defined_source_terms':None}"
      ],
      "metadata": {
        "id": "MnExYIkRZEdD"
      },
      "execution_count": null,
      "outputs": []
    },
    {
      "cell_type": "code",
      "source": [
        "simulator = solver.set_solver(thermo_set,boundary_set,source_set,'implicit',grid_set)"
      ],
      "metadata": {
        "id": "OO0NbrgPhsHT"
      },
      "execution_count": null,
      "outputs": []
    },
    {
      "cell_type": "code",
      "source": [
        "def initial_conditions(ignition_width,ignition_height):\n",
        "    Penv = 1*101325/P0; Tenv = 300/T0; yH2env = 0; yO2env = 0.232;\n",
        "    Pignition = 20*101325/P0; Tignition = 1500/T0; Tfill = T0/T0;\n",
        "    Yenv = np.concatenate([np.array([yH2env,yO2env]),1e-20*np.ones(8-2)])\n",
        "    Yfill = np.concatenate([np.array([yH2inj,yO2inj]),1e-20*np.ones(8-2)])\n",
        "    _,gamma_env,h_env,Renv,_ = thermo.get_thermo(np.array([[[Tenv]]]),jnp.expand_dims(Yenv,(1,2)))\n",
        "    _,gamma_ignition,h_ignition,_,_ = thermo.get_thermo(np.array([[[Tignition]]]),jnp.expand_dims(Yfill,(1,2)))\n",
        "    _,gamma_fill,h_fill,Rfill,_ = thermo.get_thermo(np.array([[[Tfill]]]),jnp.expand_dims(Yfill,(1,2)))\n",
        "\n",
        "    gamma_env = gamma_env.squeeze()\n",
        "    h_env = h_env.squeeze()\n",
        "    Renv = Renv.squeeze()\n",
        "    gamma_ignition = gamma_ignition.squeeze()\n",
        "    h_ignition = h_ignition.squeeze()\n",
        "    gamma_fill = gamma_fill.squeeze()\n",
        "    h_fill = h_fill.squeeze()\n",
        "    Rfill = Rfill.squeeze()\n",
        "\n",
        "    rho_init = Penv/(Renv*Tenv)*np.ones((nx,ny))\n",
        "    rhou_init = np.zeros((nx,ny))\n",
        "    rhov_init = np.zeros((nx,ny))\n",
        "    E_init = (Penv/(Renv*Tenv)*h_env - Penv)*np.ones((nx,ny))\n",
        "    T_init = (Tenv)*np.ones((nx,ny))\n",
        "    gamma_init = (gamma_env)*np.ones((nx,ny))\n",
        "    rhoY_init = np.expand_dims(Penv/(Renv*Tenv)*Yenv,(1,2))*np.ones((8,nx,ny))\n",
        "\n",
        "\n",
        "    div = 2\n",
        "    rho_init = rho_init.at[0:ignition_width,0:ignition_height].set(Pignition/(Rfill*Tignition))\n",
        "    E_init = E_init.at[0:ignition_width,0:ignition_height].set(Pignition/(Rfill*Tignition)*h_ignition - Pignition)\n",
        "    T_init[0:ignition_width,0:ignition_height] = (Tignition)\n",
        "    gamma_init = gamma_init.at[0:ignition_width,0:ignition_height].set(gamma_ignition)\n",
        "    rhoY_init[:,0:ignition_width,0:ignition_height] = (np.expand_dims(rho_init[0:ignition_width,0:ignition_height],0)*np.tile(np.expand_dims(Yfill,(1,2)),(1,ignition_width,ignition_height)))\n",
        "\n",
        "\n",
        "    rho_init = rho_init.at[ignition_width:round(nx/div),0:ignition_height].set(Penv/(Rfill*Tfill))\n",
        "    E_init = E_init.at[ignition_width:round(nx/div),0:ignition_height].set(Penv/(Rfill*Tfill)*h_fill - Penv)\n",
        "    T_init[ignition_width:round(nx/div),0:ignition_height] = (Tfill)\n",
        "    gamma_init = gamma_init.at[ignition_width:round(nx/div),0:ignition_height].set(gamma_fill)\n",
        "    rhoY_init[:,ignition_width:round(nx/div),0:ignition_height] = np.expand_dims(rho_init[ignition_width:round(nx/div),0:ignition_height],0)*np.tile(np.expand_dims(Yfill,(1,2)),(1,round(nx/div)-ignition_width,ignition_height))\n",
        "\n",
        "    rho_init = jnp.expand_dims(rho_init,0)\n",
        "    rhou_init = jnp.expand_dims(rhou_init,0)\n",
        "    rhov_init = jnp.expand_dims(rhov_init,0)\n",
        "    E_init = jnp.expand_dims(E_init,0)\n",
        "    state_init = np.concatenate([rho_init,rhou_init,rhov_init,E_init,rhoY_init],axis=0)\n",
        "    return jnp.array(state_init),jnp.concatenate([jnp.array([T_init]),jnp.array([gamma_init])],axis=0)\n",
        "\n",
        "\n",
        "ignition_width = round(108);ignition_height = round(288)\n",
        "#ignition_width = 14;ignition_height = 36\n",
        "U,aux = initial_conditions(ignition_width,ignition_height)\n",
        "plt.figure(figsize=(10, 4))\n",
        "x = jnp.linspace(0, Lx, nx)\n",
        "y = jnp.linspace(0, Ly, ny)\n",
        "X, Y = jnp.meshgrid(x, y, indexing='ij')\n",
        "plt.contourf(X, Y, aux[-1], levels=50, cmap='viridis')"
      ],
      "metadata": {
        "colab": {
          "base_uri": "https://localhost:8080/",
          "height": 391
        },
        "id": "iif5sUUAlWlr",
        "outputId": "961a1e9c-44f9-45f5-d50e-c270a52ecba1"
      },
      "execution_count": null,
      "outputs": [
        {
          "output_type": "execute_result",
          "data": {
            "text/plain": [
              "<matplotlib.contour.QuadContourSet at 0x7f83e1f201d0>"
            ]
          },
          "metadata": {},
          "execution_count": 18
        },
        {
          "output_type": "display_data",
          "data": {
            "text/plain": [
              "<Figure size 1000x400 with 1 Axes>"
            ],
            "image/png": "[encoded data removed]"
          },
          "metadata": {}
        }
      ]
    },
    {
      "cell_type": "code",
      "source": [
        "T = simulator(U,aux,40000)"
      ],
      "metadata": {
        "colab": {
          "base_uri": "https://localhost:8080/",
          "height": 49,
          "referenced_widgets": [
            "f1ad0f2df2e44cd390c788bd2634892c",
            "12b4651f17e548dfb359d6db836cd701",
            "dc5083f572404b059612434d51287689",
            "6c2bd53004a94767bdc6fe45220fc1fc",
            "51f7040e8d434873b67f230299a32e86",
            "5dbc5852402c4c8698b4b80ade1eb9a9",
            "a60446bdd28f4af59fcdd94ac488b366",
            "4b28421616eb4b888b9506072a846c0c",
            "3b560400bb7d47859da39a98c5269c2a",
            "3a26d9db85be416d8f00ac2215d6d930",
            "7782f68f2b03422399492787cf25eeb4"
          ]
        },
        "id": "0egmsIcg93n1",
        "outputId": "633bc214-429b-4f9a-c25f-d8138ed50d21"
      },
      "execution_count": null,
      "outputs": [
        {
          "output_type": "display_data",
          "data": {
            "text/plain": [
              "progress:   0%|          | 0/40000 [00:00<?, ?step/s]"
            ],
            "application/vnd.jupyter.widget-view+json": {
              "version_major": 2,
              "version_minor": 0,
              "model_id": "f1ad0f2df2e44cd390c788bd2634892c"
            }
          },
          "metadata": {}
        }
      ]
    },
    {
      "cell_type": "code",
      "source": [
        "plt.figure(figsize=(10, 4))\n",
        "plt.contourf(X, Y, T[-1], levels=50, cmap='viridis')\n",
        "#plt.clim(0, 4)\n",
        "plt.xlabel('x')\n",
        "plt.ylabel('y')\n",
        "plt.colorbar()\n",
        "plt.tight_layout()\n",
        "plt.axis('equal')\n",
        "plt.show()"
      ],
      "metadata": {
        "colab": {
          "base_uri": "https://localhost:8080/",
          "height": 401
        },
        "id": "tRDCWBe5wcXO",
        "outputId": "06f183a8-9d90-4e0f-dc24-46f4f2ae07df"
      },
      "execution_count": null,
      "outputs": [
        {
          "output_type": "display_data",
          "data": {
            "text/plain": [
              "<Figure size 1000x400 with 2 Axes>"
            ],
            "image/png": "[encoded data removed]"
          },
          "metadata": {}
        }
      ]
    },
    {
      "cell_type": "code",
      "source": [
        "T_np = np.array(T)"
      ],
      "metadata": {
        "id": "YsrtrkvR-o5o"
      },
      "execution_count": null,
      "outputs": []
    },
    {
      "cell_type": "code",
      "source": [
        "import numpy as np\n",
        "import matplotlib.pyplot as plt\n",
        "from matplotlib.animation import FuncAnimation\n",
        "\n",
        "\n",
        "nt, nx, ny = 400, 2000, 800\n",
        "data = 300*T_np\n",
        "\n",
        "\n",
        "\n",
        "fig, ax = plt.subplots(figsize=(10, 4))\n",
        "ax.set_title(\"Frame 0\")\n",
        "\n",
        "levels = np.linspace(200.0, 3500.0, 50)\n",
        "\n",
        "contour = ax.contourf(X*x0, Y*x0, data[0], levels=levels, cmap='viridis', vmin=200.0, vmax=3500.0)\n",
        "cbar = fig.colorbar(contour)\n",
        "cbar.set_label('T(K)')\n",
        "ax.set_xlabel('x(m)')\n",
        "ax.set_ylabel('y(m)')\n",
        "\n",
        "def update(frame):\n",
        "    for coll in ax.collections:\n",
        "        coll.remove()\n",
        "    ax.contourf(X*x0, Y*x0, data[frame], levels=levels, cmap='viridis', vmin=200.0, vmax=3500.0)\n",
        "    time = frame*100/13.24/60\n",
        "    ax.set_title(f\"Computation Time (A100) t = {time:.2f}min\")\n",
        "    return ax.collections\n",
        "\n",
        "anim = FuncAnimation(fig, update, frames=nt, interval=100)\n",
        "\n",
        "\n",
        "anim.save(\"/content/drive/MyDrive/animation3.gif\", writer=\"pillow\", fps=24, dpi=100)\n",
        "\n",
        "print(\"GIF saved！\")"
      ],
      "metadata": {
        "colab": {
          "base_uri": "https://localhost:8080/",
          "height": 427
        },
        "id": "nTUphq8m9cBu",
        "outputId": "88e00963-9b64-4b3c-a4a2-790752869440"
      },
      "execution_count": null,
      "outputs": [
        {
          "output_type": "stream",
          "name": "stdout",
          "text": [
            "GIF保存完成！\n"
          ]
        },
        {
          "output_type": "display_data",
          "data": {
            "text/plain": [
              "<Figure size 1000x400 with 2 Axes>"
            ],
            "image/png": "[encoded data removed]"
          },
          "metadata": {}
        }
      ]
    }
  ]
}